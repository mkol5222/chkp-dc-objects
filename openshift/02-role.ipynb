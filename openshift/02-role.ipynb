{
 "cells": [
  {
   "cell_type": "code",
   "execution_count": null,
   "metadata": {
    "dotnet_interactive": {
     "language": "pwsh"
    },
    "vscode": {
     "languageId": "dotnet-interactive.pwsh"
    }
   },
   "outputs": [],
   "source": [
    "# PATH\n",
    "if (!$env:PATH.Contains(\".crc/bin/oc\")) { $env:PATH = $env:HOME+\"/.crc/bin/oc:\"+$env:PATH }\n",
    "# as kubeadmin\n",
    "oc login -u kubeadmin https://api.crc.testing:6443\n",
    "\n",
    "$ns = oc config view --minify -o 'jsonpath={..namespace}'\n",
    "#\"$($ns):egressips-reader\""
   ]
  },
  {
   "cell_type": "code",
   "execution_count": null,
   "metadata": {
    "dotnet_interactive": {
     "language": "pwsh"
    },
    "vscode": {
     "languageId": "dotnet-interactive.pwsh"
    }
   },
   "outputs": [],
   "source": [
    "oc delete clusterrolebinding egressips-reader\n",
    "oc delete serviceaccount egressips-reader\n",
    "oc delete clusterrole egressips-reader"
   ]
  },
  {
   "cell_type": "code",
   "execution_count": null,
   "metadata": {
    "dotnet_interactive": {
     "language": "pwsh"
    },
    "vscode": {
     "languageId": "dotnet-interactive.pwsh"
    }
   },
   "outputs": [],
   "source": [
    "\n",
    "@\"\n",
    "kind: ClusterRole\n",
    "apiVersion: rbac.authorization.k8s.io/v1\n",
    "\n",
    "metadata:\n",
    " name: egressips-reader\n",
    "\n",
    "rules:\n",
    "- apiGroups: [\"network.openshift.io\"]\n",
    "  resources: [\"netnamespaces\"]\n",
    "  verbs: [\"get\", \"list\"]\n",
    "\"@ | oc apply -f -\n",
    "\n",
    "oc create serviceaccount egressips-reader\n",
    "oc create clusterrolebinding egressips-reader --clusterrole egressips-reader --serviceaccount \"$($ns):egressips-reader\""
   ]
  },
  {
   "cell_type": "code",
   "execution_count": null,
   "metadata": {
    "dotnet_interactive": {
     "language": "pwsh"
    },
    "vscode": {
     "languageId": "dotnet-interactive.pwsh"
    }
   },
   "outputs": [],
   "source": [
    "$serviceAccount = \"egressips-reader\"\n",
    "$secretName=oc get serviceaccount $serviceAccount -o json | ConvertFrom-Json `\n",
    "| % { $_.secrets } `\n",
    "| ? { $_.name.startsWith(\"$($serviceAccount)-token-\") } `\n",
    "| select -First 1 | % { $_.name }\n",
    "\n",
    "# $secretName=\"egressips-reader-token-zc78k\"\n",
    "$secretName\n",
    "\n",
    "# token from secretName\n",
    "$token = oc get secret $secretName -o json | ConvertFrom-Json | % { $_.data.token | base64 -d }\n",
    "$token \n",
    "\n",
    "# ca.crt\n",
    "$caCrtFilename = \"./k8sca.crt\"\n",
    "oc get secret $secretName -o json  | ConvertFrom-Json | % { $_.data.\"ca.crt\" | base64 -d } | Out-File $caCrtFilename\n",
    "$caCrtFilename \n",
    "# API server URL\n",
    "$apiServerUrl = oc config view -o json | jq -c '.clusters[] | select(.name == \"\"api-crc-testing:6443\"\") | .cluster.server'\n",
    "\n",
    "#$apiServerUrl = \"https://api.crc.testing:6443\"\n",
    "$apiServerUrl"
   ]
  },
  {
   "cell_type": "code",
   "execution_count": null,
   "metadata": {
    "dotnet_interactive": {
     "language": "pwsh"
    },
    "vscode": {
     "languageId": "dotnet-interactive.pwsh"
    }
   },
   "outputs": [],
   "source": [
    "/usr/bin/curl -v \"$apiServerUrl/api/v1/namespaces/default/pods\" `\n",
    "   --header \"Authorization: Bearer $token\" --cacert $caCrtFilename \n",
    "#   | jq '.items[] | .metadata.name'\n",
    "\n",
    "    \n",
    "\n"
   ]
  },
  {
   "cell_type": "code",
   "execution_count": null,
   "metadata": {
    "dotnet_interactive": {
     "language": "pwsh"
    },
    "vscode": {
     "languageId": "dotnet-interactive.pwsh"
    }
   },
   "outputs": [],
   "source": [
    "\"token: $token\"\n",
    "\n",
    "/usr/bin/curl -s \"$apiServerUrl/apis/network.openshift.io/v1/netnamespaces\" `\n",
    "   --header \"Authorization: Bearer $token\" --cacert $caCrtFilename "
   ]
  }
 ],
 "metadata": {
  "kernelspec": {
   "display_name": ".NET (PowerShell)",
   "language": "PowerShell",
   "name": ".net-pwsh"
  },
  "language_info": {
   "name": "PowerShell"
  }
 },
 "nbformat": 4,
 "nbformat_minor": 2
}
