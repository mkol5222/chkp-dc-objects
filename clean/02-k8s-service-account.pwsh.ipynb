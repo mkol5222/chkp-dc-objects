{
 "cells": [
  {
   "cell_type": "code",
   "execution_count": null,
   "metadata": {
    "dotnet_interactive": {
     "language": "pwsh"
    },
    "vscode": {
     "languageId": "dotnet-interactive.pwsh"
    }
   },
   "outputs": [
    {
     "name": "stdout",
     "output_type": "stream",
     "text": [
      "error: failed to create serviceaccount: serviceaccounts \"cp-api-explorer\" already exists\n",
      "Error from server (AlreadyExists): clusterroles.rbac.authorization.k8s.io \"ns-reader\" already exists\n",
      "error: failed to create clusterrolebinding: clusterrolebindings.rbac.authorization.k8s.io \"ns-reader\" already exists\n"
     ]
    }
   ],
   "source": [
    "# service account to access namespaces and pods list and details\n",
    "kubectl create serviceaccount cp-api-explorer\n",
    "\n",
    "# ro permissions - GET/LIST/WATCH namespaces and pods on cluster level\n",
    "kubectl create clusterrole ns-reader --verb=get,list,watch --resource=namespaces,pods\n",
    "\n",
    "# bind role(permissions) to account - CLUSTER level\n",
    "kubectl create clusterrolebinding ns-reader --clusterrole ns-reader --serviceaccount default:cp-api-explorer\n"
   ]
  },
  {
   "cell_type": "markdown",
   "metadata": {
    "dotnet_interactive": {
     "language": "pwsh"
    }
   },
   "source": [
    "[doc](https://nieldw.medium.com/curling-the-kubernetes-api-server-d7675cfc398c)"
   ]
  },
  {
   "cell_type": "code",
   "execution_count": null,
   "metadata": {
    "dotnet_interactive": {
     "language": "pwsh"
    },
    "vscode": {
     "languageId": "dotnet-interactive.pwsh"
    }
   },
   "outputs": [
    {
     "name": "stdout",
     "output_type": "stream",
     "text": [
      "{\n",
      "    \"apiVersion\": \"v1\",\n",
      "    \"kind\": \"ServiceAccount\",\n",
      "    \"metadata\": {\n",
      "        \"creationTimestamp\": \"2022-03-31T13:04:26Z\",\n",
      "        \"name\": \"cp-api-explorer\",\n",
      "        \"namespace\": \"default\",\n",
      "        \"resourceVersion\": \"501\",\n",
      "        \"uid\": \"95fb1392-b9bd-4f32-ad85-577997e34cf1\"\n",
      "    },\n",
      "    \"secrets\": [\n",
      "        {\n",
      "            \"name\": \"cp-api-explorer-token-sbfpk\"\n",
      "        }\n",
      "    ]\n",
      "}\n"
     ]
    }
   ],
   "source": [
    "# account has secret(s)\n",
    "kubectl get serviceaccount cp-api-explorer -o json"
   ]
  },
  {
   "cell_type": "code",
   "execution_count": null,
   "metadata": {
    "dotnet_interactive": {
     "language": "pwsh"
    },
    "vscode": {
     "languageId": "dotnet-interactive.pwsh"
    }
   },
   "outputs": [
    {
     "name": "stdout",
     "output_type": "stream",
     "text": [
      "NAME                          TYPE                                  DATA   AGE\n",
      "cp-api-explorer-token-sbfpk   kubernetes.io/service-account-token   3      78m\n",
      "default-token-8qtt8           kubernetes.io/service-account-token   3      79m\n"
     ]
    }
   ],
   "source": [
    "# list secrets\n",
    "kubectl get secrets"
   ]
  },
  {
   "cell_type": "code",
   "execution_count": null,
   "metadata": {
    "dotnet_interactive": {
     "language": "pwsh"
    },
    "vscode": {
     "languageId": "dotnet-interactive.pwsh"
    }
   },
   "outputs": [
    {
     "name": "stdout",
     "output_type": "stream",
     "text": [
      "cp-api-explorer-token-sbfpk\n",
      "-----BEGIN CERTIFICATE-----\n",
      "MIIDBjCCAe6gAwIBAgIBATANBgkqhkiG9w0BAQsFADAVMRMwEQYDVQQDEwptaW5p\n",
      "a3ViZUNBMB4XDTIxMTIxODIxMDIyN1oXDTMxMTIxNzIxMDIyN1owFTETMBEGA1UE\n",
      "AxMKbWluaWt1YmVDQTCCASIwDQYJKoZIhvcNAQEBBQADggEPADCCAQoCggEBAMD5\n",
      "iYNQZEwd7zXtrLY5CV2w2qgyD7xtsnr06c9u0PEYgXEEeQ8iEpi9dNhtOFiahned\n",
      "mWIikylDD+K0vVba7Hm3U11QPSSAiFwhuTt0Kuhs7dpqKr8dAeOakjNTQLPOFHwW\n",
      "Qs231Aeme2YKDtpF4w7VbQlOS2iQUvcr8+1JerTVXG4LuphImMUdOGj7ACD+2su3\n",
      "4J4lRGTlQ9wCiMeAcdya4GEmX3kvMuPNQlZ3J+tO+TqPFHyAoyvNhyy3jqT0wHa7\n",
      "8VoSQ0lzs/N08qQvdM9eWbmNBKNAEzGdFGoDsQ3h9lbZxfiG2TUTNRQuQbLLbfjZ\n",
      "mLc5/h7SAEz+vGjSQJcCAwEAAaNhMF8wDgYDVR0PAQH/BAQDAgKkMB0GA1UdJQQW\n",
      "MBQGCCsGAQUFBwMCBggrBgEFBQcDATAPBgNVHRMBAf8EBTADAQH/MB0GA1UdDgQW\n",
      "BBSU+f/S+BIFll65N9lYv9ljIo+kGDANBgkqhkiG9w0BAQsFAAOCAQEAHlRd3NHJ\n",
      "NdslzHem8tnB4mI36pcKemaVWgKh4AoMU9wk+yDfjmVjtUQh5ABrwOaNYL2b/G/W\n",
      "iiVP0+qrhWHzswu3SqrnC2HW8mM1GgZzO0LI6nspudAfNDFtolEdFx+s3LsmlC+2\n",
      "KsZVH+cvd+nFDTCyev/05WAp7xQpz8dNlcm/rCM5Pb7ruWTTts964BTeadc/iu2E\n",
      "qqc/htzwAVYccWc0EKoSoTS5vZzhk2LBWQLgvR1cEp/s+19EYuzB7yRBbbRt+KTG\n",
      "c27OkRWMwV8lGoE0+U+MkLx5TAnjg7iEx8KtQ0YAkJ8/Wo4jE5BnYUVDATTPOJIg\n",
      "rBwuvuPJg7fdjw==\n",
      "-----END CERTIFICATE-----\n"
     ]
    }
   ],
   "source": [
    "# we know which from SA, right\n",
    "$serviceAccount = \"cp-api-explorer\"\n",
    "# get right secret\n",
    "$secretName = kubectl get serviceaccount $serviceAccount -o json | ConvertFrom-Json `\n",
    "    | % { $_.secrets } `\n",
    "    | ? { $_.name.startsWith(\"$($serviceAccount)-token-\") } `\n",
    "    | select -First 1 | % { $_.name }\n",
    "$secretName\n",
    "# secret from secretName\n",
    "$token = kubectl get secret $secretName -o json | ConvertFrom-Json | % { $_.data.token | base64 -d }\n",
    "# ca.crt\n",
    "$caCrtFilename = \"./k8sca.crt\"\n",
    "kubectl get secret $secretName -o json | ConvertFrom-Json | % { $_.data.\"ca.crt\" | base64 -d } | Out-File $caCrtFilename\n",
    "gc $caCrtFilename"
   ]
  },
  {
   "cell_type": "code",
   "execution_count": null,
   "metadata": {
    "dotnet_interactive": {
     "language": "pwsh"
    },
    "vscode": {
     "languageId": "dotnet-interactive.pwsh"
    }
   },
   "outputs": [
    {
     "name": "stdout",
     "output_type": "stream",
     "text": [
      "https://192.168.64.6:8443\n"
     ]
    }
   ],
   "source": [
    "# k8s API endpoint (if not in minikube, right? - it depends...)\n",
    "$server = kubectl -n default get endpoints kubernetes --no-headers | awk '{ print $2 }'\n",
    "$apiServerUrl = \"https://$($server)\"\n",
    "$apiServerUrl"
   ]
  },
  {
   "cell_type": "code",
   "execution_count": null,
   "metadata": {
    "dotnet_interactive": {
     "language": "pwsh"
    },
    "vscode": {
     "languageId": "dotnet-interactive.pwsh"
    }
   },
   "outputs": [
    {
     "name": "stdout",
     "output_type": "stream",
     "text": [
      "\"api-crc-testing:6443\"\n",
      "\"minikube\"\n",
      "\"https://192.168.64.6:8443\"\n"
     ]
    }
   ],
   "source": [
    "# with minikube our kube config has server address+port\n",
    "kubectl config view -o json | jq '.clusters[] | .name'\n",
    "\n",
    "# kubectl config view -o json | jq '.clusters[] | select(.name == \"\"minikube\"\")'\n",
    "\n",
    "kubectl config view -o json | jq -c '.clusters[] | select(.name == \"\"minikube\"\") | .cluster.server'\n",
    "\n",
    "$apiServerUrl = kubectl config view -o json | jq -c '.clusters[] | select(.name == \"\"minikube\"\") | .cluster.server'"
   ]
  },
  {
   "cell_type": "code",
   "execution_count": null,
   "metadata": {
    "dotnet_interactive": {
     "language": "pwsh"
    },
    "vscode": {
     "languageId": "dotnet-interactive.pwsh"
    }
   },
   "outputs": [],
   "source": [
    "# run few web servers\n",
    "1..10 | % { kubectl run \"web-$($_)\" --image nginx }"
   ]
  },
  {
   "cell_type": "code",
   "execution_count": null,
   "metadata": {
    "dotnet_interactive": {
     "language": "pwsh"
    },
    "vscode": {
     "languageId": "dotnet-interactive.pwsh"
    }
   },
   "outputs": [
    {
     "name": "stdout",
     "output_type": "stream",
     "text": [
      "{\n",
      "  \"metadata\": {\n",
      "    \"name\": \"middleware-service\",\n",
      "    \"namespace\": \"default\",\n",
      "    \"uid\": \"a501ace3-7857-4047-9bb0-c38058e1848e\",\n",
      "    \"resourceVersion\": \"1286\",\n",
      "    \"creationTimestamp\": \"2022-03-31T13:20:22Z\",\n",
      "    \"labels\": {\n",
      "      \"app\": \"nginx\",\n",
      "      \"environment\": \"production\"\n",
      "    },\n",
      "    \"annotations\": {\n",
      "      \"kubectl.kubernetes.io/last-applied-configuration\": \"{\\\"apiVersion\\\":\\\"v1\\\",\\\"kind\\\":\\\"Pod\\\",\\\"metadata\\\":{\\\"annotations\\\":{},\\\"labels\\\":{\\\"app\\\":\\\"nginx\\\",\\\"environment\\\":\\\"production\\\"},\\\"name\\\":\\\"middleware-service\\\",\\\"namespace\\\":\\\"default\\\"},\\\"spec\\\":{\\\"containers\\\":[{\\\"image\\\":\\\"nginx\\\",\\\"name\\\":\\\"web\\\",\\\"volumeMounts\\\":[{\\\"mountPath\\\":\\\"/usr/share/nginx/html\\\",\\\"name\\\":\\\"shared-data\\\"}]},{\\\"args\\\":[\\\"-c\\\",\\\"date | tee /pod-data/index.html; . /usr/local/main/k8s-api-client.sh\\\"],\\\"command\\\":[\\\"/bin/bash\\\"],\\\"image\\\":\\\"ubuntu\\\",\\\"name\\\":\\\"worker\\\",\\\"volumeMounts\\\":[{\\\"mountPath\\\":\\\"/pod-data\\\",\\\"name\\\":\\\"shared-data\\\"},{\\\"mountPath\\\":\\\"/usr/local/main\\\",\\\"name\\\":\\\"main-sh\\\",\\\"readOnly\\\":true}]}],\\\"serviceAccountName\\\":\\\"cp-api-explorer\\\",\\\"volumes\\\":[{\\\"emptyDir\\\":{},\\\"name\\\":\\\"shared-data\\\"},{\\\"configMap\\\":{\\\"name\\\":\\\"dcobj-sample\\\"},\\\"name\\\":\\\"dcobj-sample\\\"},{\\\"configMap\\\":{\\\"name\\\":\\\"main-sh\\\"},\\\"name\\\":\\\"main-sh\\\"}]}}\\n\"\n",
      "    },\n",
      "    \"managedFields\": [\n",
      "      {\n",
      "        \"manager\": \"kubectl-client-side-apply\",\n",
      "        \"operation\": \"Update\",\n",
      "        \"apiVersion\": \"v1\",\n",
      "        \"time\": \"2022-03-31T13:20:22Z\",\n",
      "        \"fieldsType\": \"FieldsV1\",\n",
      "        \"fieldsV1\": {\n",
      "          \"f:metadata\": {\n",
      "            \"f:annotations\": {\n",
      "              \".\": {},\n",
      "              \"f:kubectl.kubernetes.io/last-applied-configuration\": {}\n",
      "            },\n",
      "            \"f:labels\": {\n",
      "              \".\": {},\n",
      "              \"f:app\": {},\n",
      "              \"f:environment\": {}\n",
      "            }\n",
      "          },\n",
      "          \"f:spec\": {\n",
      "            \"f:containers\": {\n",
      "              \"k:{\\\"name\\\":\\\"web\\\"}\": {\n",
      "                \".\": {},\n",
      "                \"f:image\": {},\n",
      "                \"f:imagePullPolicy\": {},\n",
      "                \"f:name\": {},\n",
      "                \"f:resources\": {},\n",
      "                \"f:terminationMessagePath\": {},\n",
      "                \"f:terminationMessagePolicy\": {},\n",
      "                \"f:volumeMounts\": {\n",
      "                  \".\": {},\n",
      "                  \"k:{\\\"mountPath\\\":\\\"/usr/share/nginx/html\\\"}\": {\n",
      "                    \".\": {},\n",
      "                    \"f:mountPath\": {},\n",
      "                    \"f:name\": {}\n",
      "                  }\n",
      "                }\n",
      "              },\n",
      "              \"k:{\\\"name\\\":\\\"worker\\\"}\": {\n",
      "                \".\": {},\n",
      "                \"f:args\": {},\n",
      "                \"f:command\": {},\n",
      "                \"f:image\": {},\n",
      "                \"f:imagePullPolicy\": {},\n",
      "                \"f:name\": {},\n",
      "                \"f:resources\": {},\n",
      "                \"f:terminationMessagePath\": {},\n",
      "                \"f:terminationMessagePolicy\": {},\n",
      "                \"f:volumeMounts\": {\n",
      "                  \".\": {},\n",
      "                  \"k:{\\\"mountPath\\\":\\\"/pod-data\\\"}\": {\n",
      "                    \".\": {},\n",
      "                    \"f:mountPath\": {},\n",
      "                    \"f:name\": {}\n",
      "                  },\n",
      "                  \"k:{\\\"mountPath\\\":\\\"/usr/local/main\\\"}\": {\n",
      "                    \".\": {},\n",
      "                    \"f:mountPath\": {},\n",
      "                    \"f:name\": {},\n",
      "                    \"f:readOnly\": {}\n",
      "                  }\n",
      "                }\n",
      "              }\n",
      "            },\n",
      "            \"f:dnsPolicy\": {},\n",
      "            \"f:enableServiceLinks\": {},\n",
      "            \"f:restartPolicy\": {},\n",
      "            \"f:schedulerName\": {},\n",
      "            \"f:securityContext\": {},\n",
      "            \"f:serviceAccount\": {},\n",
      "            \"f:serviceAccountName\": {},\n",
      "            \"f:terminationGracePeriodSeconds\": {},\n",
      "            \"f:volumes\": {\n",
      "              \".\": {},\n",
      "              \"k:{\\\"name\\\":\\\"dcobj-sample\\\"}\": {\n",
      "                \".\": {},\n",
      "                \"f:configMap\": {\n",
      "                  \".\": {},\n",
      "                  \"f:defaultMode\": {},\n",
      "                  \"f:name\": {}\n",
      "                },\n",
      "                \"f:name\": {}\n",
      "              },\n",
      "              \"k:{\\\"name\\\":\\\"main-sh\\\"}\": {\n",
      "                \".\": {},\n",
      "                \"f:configMap\": {\n",
      "                  \".\": {},\n",
      "                  \"f:defaultMode\": {},\n",
      "                  \"f:name\": {}\n",
      "                },\n",
      "                \"f:name\": {}\n",
      "              },\n",
      "              \"k:{\\\"name\\\":\\\"shared-data\\\"}\": {\n",
      "                \".\": {},\n",
      "                \"f:emptyDir\": {},\n",
      "                \"f:name\": {}\n",
      "              }\n",
      "            }\n",
      "          }\n",
      "        }\n",
      "      },\n",
      "      {\n",
      "        \"manager\": \"Go-http-client\",\n",
      "        \"operation\": \"Update\",\n",
      "        \"apiVersion\": \"v1\",\n",
      "        \"time\": \"2022-03-31T13:20:32Z\",\n",
      "        \"fieldsType\": \"FieldsV1\",\n",
      "        \"fieldsV1\": {\n",
      "          \"f:status\": {\n",
      "            \"f:conditions\": {\n",
      "              \"k:{\\\"type\\\":\\\"ContainersReady\\\"}\": {\n",
      "                \".\": {},\n",
      "                \"f:lastProbeTime\": {},\n",
      "                \"f:lastTransitionTime\": {},\n",
      "                \"f:status\": {},\n",
      "                \"f:type\": {}\n",
      "              },\n",
      "              \"k:{\\\"type\\\":\\\"Initialized\\\"}\": {\n",
      "                \".\": {},\n",
      "                \"f:lastProbeTime\": {},\n",
      "                \"f:lastTransitionTime\": {},\n",
      "                \"f:status\": {},\n",
      "                \"f:type\": {}\n",
      "              },\n",
      "              \"k:{\\\"type\\\":\\\"Ready\\\"}\": {\n",
      "                \".\": {},\n",
      "                \"f:lastProbeTime\": {},\n",
      "                \"f:lastTransitionTime\": {},\n",
      "                \"f:status\": {},\n",
      "                \"f:type\": {}\n",
      "              }\n",
      "            },\n",
      "            \"f:containerStatuses\": {},\n",
      "            \"f:hostIP\": {},\n",
      "            \"f:phase\": {},\n",
      "            \"f:podIP\": {},\n",
      "            \"f:podIPs\": {\n",
      "              \".\": {},\n",
      "              \"k:{\\\"ip\\\":\\\"172.17.0.13\\\"}\": {\n",
      "                \".\": {},\n",
      "                \"f:ip\": {}\n",
      "              }\n",
      "            },\n",
      "            \"f:startTime\": {}\n",
      "          }\n",
      "        },\n",
      "        \"subresource\": \"status\"\n",
      "      }\n",
      "    ]\n",
      "  },\n",
      "  \"spec\": {\n",
      "    \"volumes\": [\n",
      "      {\n",
      "        \"name\": \"shared-data\",\n",
      "        \"emptyDir\": {}\n",
      "      },\n",
      "      {\n",
      "        \"name\": \"dcobj-sample\",\n",
      "        \"configMap\": {\n",
      "          \"name\": \"dcobj-sample\",\n",
      "          \"defaultMode\": 420\n",
      "        }\n",
      "      },\n",
      "      {\n",
      "        \"name\": \"main-sh\",\n",
      "        \"configMap\": {\n",
      "          \"name\": \"main-sh\",\n",
      "          \"defaultMode\": 420\n",
      "        }\n",
      "      },\n",
      "      {\n",
      "        \"name\": \"kube-api-access-jh2qs\",\n",
      "        \"projected\": {\n",
      "          \"sources\": [\n",
      "            {\n",
      "              \"serviceAccountToken\": {\n",
      "                \"expirationSeconds\": 3607,\n",
      "                \"path\": \"token\"\n",
      "              }\n",
      "            },\n",
      "            {\n",
      "              \"configMap\": {\n",
      "                \"name\": \"kube-root-ca.crt\",\n",
      "                \"items\": [\n",
      "                  {\n",
      "                    \"key\": \"ca.crt\",\n",
      "                    \"path\": \"ca.crt\"\n",
      "                  }\n",
      "                ]\n",
      "              }\n",
      "            },\n",
      "            {\n",
      "              \"downwardAPI\": {\n",
      "                \"items\": [\n",
      "                  {\n",
      "                    \"path\": \"namespace\",\n",
      "                    \"fieldRef\": {\n",
      "                      \"apiVersion\": \"v1\",\n",
      "                      \"fieldPath\": \"metadata.namespace\"\n",
      "                    }\n",
      "                  }\n",
      "                ]\n",
      "              }\n",
      "            }\n",
      "          ],\n",
      "          \"defaultMode\": 420\n",
      "        }\n",
      "      }\n",
      "    ],\n",
      "    \"containers\": [\n",
      "      {\n",
      "        \"name\": \"web\",\n",
      "        \"image\": \"nginx\",\n",
      "        \"resources\": {},\n",
      "        \"volumeMounts\": [\n",
      "          {\n",
      "            \"name\": \"shared-data\",\n",
      "            \"mountPath\": \"/usr/share/nginx/html\"\n",
      "          },\n",
      "          {\n",
      "            \"name\": \"kube-api-access-jh2qs\",\n",
      "            \"readOnly\": true,\n",
      "            \"mountPath\": \"/var/run/secrets/kubernetes.io/serviceaccount\"\n",
      "          }\n",
      "        ],\n",
      "        \"terminationMessagePath\": \"/dev/termination-log\",\n",
      "        \"terminationMessagePolicy\": \"File\",\n",
      "        \"imagePullPolicy\": \"Always\"\n",
      "      },\n",
      "      {\n",
      "        \"name\": \"worker\",\n",
      "        \"image\": \"ubuntu\",\n",
      "        \"command\": [\n",
      "          \"/bin/bash\"\n",
      "        ],\n",
      "        \"args\": [\n",
      "          \"-c\",\n",
      "          \"date | tee /pod-data/index.html; . /usr/local/main/k8s-api-client.sh\"\n",
      "        ],\n",
      "        \"resources\": {},\n",
      "        \"volumeMounts\": [\n",
      "          {\n",
      "            \"name\": \"shared-data\",\n",
      "            \"mountPath\": \"/pod-data\"\n",
      "          },\n",
      "          {\n",
      "            \"name\": \"main-sh\",\n",
      "            \"readOnly\": true,\n",
      "            \"mountPath\": \"/usr/local/main\"\n",
      "          },\n",
      "          {\n",
      "            \"name\": \"kube-api-access-jh2qs\",\n",
      "            \"readOnly\": true,\n",
      "            \"mountPath\": \"/var/run/secrets/kubernetes.io/serviceaccount\"\n",
      "          }\n",
      "        ],\n",
      "        \"terminationMessagePath\": \"/dev/termination-log\",\n",
      "        \"terminationMessagePolicy\": \"File\",\n",
      "        \"imagePullPolicy\": \"Always\"\n",
      "      }\n",
      "    ],\n",
      "    \"restartPolicy\": \"Always\",\n",
      "    \"terminationGracePeriodSeconds\": 30,\n",
      "    \"dnsPolicy\": \"ClusterFirst\",\n",
      "    \"serviceAccountName\": \"cp-api-explorer\",\n",
      "    \"serviceAccount\": \"cp-api-explorer\",\n",
      "    \"nodeName\": \"minikube\",\n",
      "    \"securityContext\": {},\n",
      "    \"schedulerName\": \"default-scheduler\",\n",
      "    \"tolerations\": [\n",
      "      {\n",
      "        \"key\": \"node.kubernetes.io/not-ready\",\n",
      "        \"operator\": \"Exists\",\n",
      "        \"effect\": \"NoExecute\",\n",
      "        \"tolerationSeconds\": 300\n",
      "      },\n",
      "      {\n",
      "        \"key\": \"node.kubernetes.io/unreachable\",\n",
      "        \"operator\": \"Exists\",\n",
      "        \"effect\": \"NoExecute\",\n",
      "        \"tolerationSeconds\": 300\n",
      "      }\n",
      "    ],\n",
      "    \"priority\": 0,\n",
      "    \"enableServiceLinks\": true,\n",
      "    \"preemptionPolicy\": \"PreemptLowerPriority\"\n",
      "  },\n",
      "  \"status\": {\n",
      "    \"phase\": \"Running\",\n",
      "    \"conditions\": [\n",
      "      {\n",
      "        \"type\": \"Initialized\",\n",
      "        \"status\": \"True\",\n",
      "        \"lastProbeTime\": null,\n",
      "        \"lastTransitionTime\": \"2022-03-31T13:20:22Z\"\n",
      "      },\n",
      "      {\n",
      "        \"type\": \"Ready\",\n",
      "        \"status\": \"True\",\n",
      "        \"lastProbeTime\": null,\n",
      "        \"lastTransitionTime\": \"2022-03-31T13:20:32Z\"\n",
      "      },\n",
      "      {\n",
      "        \"type\": \"ContainersReady\",\n",
      "        \"status\": \"True\",\n",
      "        \"lastProbeTime\": null,\n",
      "        \"lastTransitionTime\": \"2022-03-31T13:20:32Z\"\n",
      "      },\n",
      "      {\n",
      "        \"type\": \"PodScheduled\",\n",
      "        \"status\": \"True\",\n",
      "        \"lastProbeTime\": null,\n",
      "        \"lastTransitionTime\": \"2022-03-31T13:20:22Z\"\n",
      "      }\n",
      "    ],\n",
      "    \"hostIP\": \"192.168.64.6\",\n",
      "    \"podIP\": \"172.17.0.13\",\n",
      "    \"podIPs\": [\n",
      "      {\n",
      "        \"ip\": \"172.17.0.13\"\n",
      "      }\n",
      "    ],\n",
      "    \"startTime\": \"2022-03-31T13:20:22Z\",\n",
      "    \"containerStatuses\": [\n",
      "      {\n",
      "        \"name\": \"web\",\n",
      "        \"state\": {\n",
      "          \"running\": {\n",
      "            \"startedAt\": \"2022-03-31T13:20:24Z\"\n",
      "          }\n",
      "        },\n",
      "        \"lastState\": {},\n",
      "        \"ready\": true,\n",
      "        \"restartCount\": 0,\n",
      "        \"image\": \"nginx:latest\",\n",
      "        \"imageID\": \"docker-pullable://nginx@sha256:2275af0f20d71b293916f1958f8497f987b8d8fd8113df54635f2a5915002bf1\",\n",
      "        \"containerID\": \"docker://fdfb764f8bb6c3fde275efbd2354dceb7e0ce6aa83f3d1d6be56f21fd3ffe135\",\n",
      "        \"started\": true\n",
      "      },\n",
      "      {\n",
      "        \"name\": \"worker\",\n",
      "        \"state\": {\n",
      "          \"running\": {\n",
      "            \"startedAt\": \"2022-03-31T13:20:31Z\"\n",
      "          }\n",
      "        },\n",
      "        \"lastState\": {},\n",
      "        \"ready\": true,\n",
      "        \"restartCount\": 0,\n",
      "        \"image\": \"ubuntu:latest\",\n",
      "        \"imageID\": \"docker-pullable://ubuntu@sha256:bea6d19168bbfd6af8d77c2cc3c572114eb5d113e6f422573c93cb605a0e2ffb\",\n",
      "        \"containerID\": \"docker://96f7a6ce3713526279491fe59043540d3115d5d57f198b1fd07ff56609586155\",\n",
      "        \"started\": true\n",
      "      }\n",
      "    ],\n",
      "    \"qosClass\": \"BestEffort\"\n",
      "  }\n",
      "}\n"
     ]
    }
   ],
   "source": [
    "# what does one pod look like?\n",
    "/usr/bin/curl -s \"$apiServerUrl/api/v1/namespaces/default/pods\" `\n",
    "   --header \"Authorization: Bearer $token\" --cacert $caCrtFilename `\n",
    "   | jq '.items[0]'"
   ]
  },
  {
   "cell_type": "code",
   "execution_count": null,
   "metadata": {
    "dotnet_interactive": {
     "language": "pwsh"
    },
    "vscode": {
     "languageId": "dotnet-interactive.pwsh"
    }
   },
   "outputs": [
    {
     "name": "stdout",
     "output_type": "stream",
     "text": [
      "\"middleware-service\"\n",
      "\"web-1\"\n",
      "\"web-10\"\n",
      "\"web-2\"\n",
      "\"web-3\"\n",
      "\"web-4\"\n",
      "\"web-5\"\n",
      "\"web-6\"\n",
      "\"web-7\"\n",
      "\"web-8\"\n",
      "\"web-9\"\n"
     ]
    }
   ],
   "source": [
    "/usr/bin/curl -s \"$apiServerUrl/api/v1/namespaces/default/pods\" `\n",
    "   --header \"Authorization: Bearer $token\" --cacert $caCrtFilename `\n",
    "   | jq '.items[] | .metadata.name'"
   ]
  },
  {
   "cell_type": "code",
   "execution_count": null,
   "metadata": {
    "dotnet_interactive": {
     "language": "pwsh"
    },
    "vscode": {
     "languageId": "dotnet-interactive.pwsh"
    }
   },
   "outputs": [
    {
     "name": "stdout",
     "output_type": "stream",
     "text": [
      "\"172.17.0.13\"\n",
      "\"172.17.0.3\"\n",
      "\"172.17.0.12\"\n",
      "\"172.17.0.4\"\n",
      "\"172.17.0.5\"\n",
      "\"172.17.0.6\"\n",
      "\"172.17.0.7\"\n",
      "\"172.17.0.8\"\n",
      "\"172.17.0.9\"\n",
      "\"172.17.0.10\"\n",
      "\"172.17.0.11\"\n"
     ]
    }
   ],
   "source": [
    "/usr/bin/curl -s \"$apiServerUrl/api/v1/namespaces/default/pods\" `\n",
    "   --header \"Authorization: Bearer $token\" --cacert $caCrtFilename `\n",
    "   | jq '.items[] | .status.podIPs[0].ip'"
   ]
  },
  {
   "cell_type": "code",
   "execution_count": null,
   "metadata": {
    "dotnet_interactive": {
     "language": "pwsh"
    },
    "vscode": {
     "languageId": "dotnet-interactive.pwsh"
    }
   },
   "outputs": [],
   "source": []
  }
 ],
 "metadata": {
  "kernelspec": {
   "display_name": ".NET (PowerShell)",
   "language": "PowerShell",
   "name": ".net-pwsh"
  },
  "language_info": {
   "name": "PowerShell"
  }
 },
 "nbformat": 4,
 "nbformat_minor": 2
}
