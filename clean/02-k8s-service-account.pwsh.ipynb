{
 "cells": [
  {
   "cell_type": "code",
   "execution_count": null,
   "metadata": {
    "dotnet_interactive": {
     "language": "pwsh"
    }
   },
   "outputs": [],
   "source": [
    "# account to access namespaces and pods list and details\n",
    "kubectl create serviceaccount cp-api-explorer\n",
    "\n",
    "# ro permissions - GET/LIST/WATCH namespaces and pods on cluster level\n",
    "kubectl create clusterrole ns-reader --verb=get,list,watch --resource=namespaces,pods\n",
    "\n",
    "# bind role(permissions) to account\n",
    "kubectl create clusterrolebinding ns-reader --clusterrole ns-reader --serviceaccount default:cp-api-explorer\n"
   ]
  },
  {
   "cell_type": "markdown",
   "metadata": {
    "dotnet_interactive": {
     "language": "pwsh"
    }
   },
   "source": [
    "[doc](https://nieldw.medium.com/curling-the-kubernetes-api-server-d7675cfc398c)"
   ]
  },
  {
   "cell_type": "code",
   "execution_count": null,
   "metadata": {
    "dotnet_interactive": {
     "language": "pwsh"
    }
   },
   "outputs": [],
   "source": [
    "# account has secret(s)\n",
    "kubectl get serviceaccount cp-api-explorer -o json"
   ]
  },
  {
   "cell_type": "code",
   "execution_count": null,
   "metadata": {
    "dotnet_interactive": {
     "language": "pwsh"
    }
   },
   "outputs": [],
   "source": [
    "# list secrets\n",
    "kubectl get secrets"
   ]
  },
  {
   "cell_type": "code",
   "execution_count": null,
   "metadata": {
    "dotnet_interactive": {
     "language": "pwsh"
    }
   },
   "outputs": [],
   "source": [
    "# we know which from SA, right\n",
    "$serviceAccount = \"cp-api-explorer\"\n",
    "# get right secret\n",
    "$secretName = kubectl get serviceaccount cp-api-explorer -o json | ConvertFrom-Json `\n",
    "    | % { $_.secrets } `\n",
    "    | ? { $_.name.startsWith(\"$($serviceAccount)-token-\") } `\n",
    "    | select -First 1 | % { $_.name }\n",
    "$secretName\n",
    "# secret from secretName\n",
    "$token = kubectl get secret $secretName -o json | ConvertFrom-Json | % { $_.data.token | base64 -d }\n",
    "# ca.crt\n",
    "$caCrtFilename = \"./k8sca.crt\"\n",
    "kubectl get secret $secretName -o json | ConvertFrom-Json | % { $_.data.\"ca.crt\" | base64 -d } | Out-File $caCrtFilename\n",
    "gc $caCrtFilename"
   ]
  },
  {
   "cell_type": "code",
   "execution_count": null,
   "metadata": {
    "dotnet_interactive": {
     "language": "pwsh"
    }
   },
   "outputs": [],
   "source": [
    "# k8s API endpoint (if not in minikube, right?)\n",
    "$server = kubectl -n default get endpoints kubernetes --no-headers | awk '{ print $2 }'\n",
    "$apiServerUrl = \"https://$($server)\"\n",
    "$apiServerUrl"
   ]
  },
  {
   "cell_type": "code",
   "execution_count": null,
   "metadata": {
    "dotnet_interactive": {
     "language": "pwsh"
    }
   },
   "outputs": [],
   "source": [
    "kubectl config view -o json | jq '.clusters[] | .name'\n",
    "\n",
    "# kubectl config view -o json | jq '.clusters[] | select(.name == \"\"minikube\"\")'\n",
    "\n",
    "kubectl config view -o json | jq -c '.clusters[] | select(.name == \"\"minikube\"\") | .cluster.server'\n",
    "\n",
    "$apiServerUrl = kubectl config view -o json | jq -c '.clusters[] | select(.name == \"\"minikube\"\") | .cluster.server'"
   ]
  },
  {
   "cell_type": "code",
   "execution_count": null,
   "metadata": {
    "dotnet_interactive": {
     "language": "pwsh"
    }
   },
   "outputs": [],
   "source": [
    "# run few servers\n",
    "1..10 | % { kubectl run \"web-$($_)\" --image nginx }"
   ]
  },
  {
   "cell_type": "code",
   "execution_count": null,
   "metadata": {
    "dotnet_interactive": {
     "language": "pwsh"
    }
   },
   "outputs": [
    {
     "name": "stdout",
     "output_type": "stream",
     "text": [
      "{\n",
      "  \"metadata\": {\n",
      "    \"name\": \"web-1\",\n",
      "    \"namespace\": \"default\",\n",
      "    \"uid\": \"fc775b3c-5df9-473a-9146-4fce97181fdb\",\n",
      "    \"resourceVersion\": \"1130\",\n",
      "    \"creationTimestamp\": \"2022-03-30T17:08:32Z\",\n",
      "    \"labels\": {\n",
      "      \"run\": \"web-1\"\n",
      "    },\n",
      "    \"managedFields\": [\n",
      "      {\n",
      "        \"manager\": \"kubectl-run\",\n",
      "        \"operation\": \"Update\",\n",
      "        \"apiVersion\": \"v1\",\n",
      "        \"time\": \"2022-03-30T17:08:32Z\",\n",
      "        \"fieldsType\": \"FieldsV1\",\n",
      "        \"fieldsV1\": {\n",
      "          \"f:metadata\": {\n",
      "            \"f:labels\": {\n",
      "              \".\": {},\n",
      "              \"f:run\": {}\n",
      "            }\n",
      "          },\n",
      "          \"f:spec\": {\n",
      "            \"f:containers\": {\n",
      "              \"k:{\\\"name\\\":\\\"web-1\\\"}\": {\n",
      "                \".\": {},\n",
      "                \"f:image\": {},\n",
      "                \"f:imagePullPolicy\": {},\n",
      "                \"f:name\": {},\n",
      "                \"f:resources\": {},\n",
      "                \"f:terminationMessagePath\": {},\n",
      "                \"f:terminationMessagePolicy\": {}\n",
      "              }\n",
      "            },\n",
      "            \"f:dnsPolicy\": {},\n",
      "            \"f:enableServiceLinks\": {},\n",
      "            \"f:restartPolicy\": {},\n",
      "            \"f:schedulerName\": {},\n",
      "            \"f:securityContext\": {},\n",
      "            \"f:terminationGracePeriodSeconds\": {}\n",
      "          }\n",
      "        }\n",
      "      },\n",
      "      {\n",
      "        \"manager\": \"Go-http-client\",\n",
      "        \"operation\": \"Update\",\n",
      "        \"apiVersion\": \"v1\",\n",
      "        \"time\": \"2022-03-30T17:08:41Z\",\n",
      "        \"fieldsType\": \"FieldsV1\",\n",
      "        \"fieldsV1\": {\n",
      "          \"f:status\": {\n",
      "            \"f:conditions\": {\n",
      "              \"k:{\\\"type\\\":\\\"ContainersReady\\\"}\": {\n",
      "                \".\": {},\n",
      "                \"f:lastProbeTime\": {},\n",
      "                \"f:lastTransitionTime\": {},\n",
      "                \"f:status\": {},\n",
      "                \"f:type\": {}\n",
      "              },\n",
      "              \"k:{\\\"type\\\":\\\"Initialized\\\"}\": {\n",
      "                \".\": {},\n",
      "                \"f:lastProbeTime\": {},\n",
      "                \"f:lastTransitionTime\": {},\n",
      "                \"f:status\": {},\n",
      "                \"f:type\": {}\n",
      "              },\n",
      "              \"k:{\\\"type\\\":\\\"Ready\\\"}\": {\n",
      "                \".\": {},\n",
      "                \"f:lastProbeTime\": {},\n",
      "                \"f:lastTransitionTime\": {},\n",
      "                \"f:status\": {},\n",
      "                \"f:type\": {}\n",
      "              }\n",
      "            },\n",
      "            \"f:containerStatuses\": {},\n",
      "            \"f:hostIP\": {},\n",
      "            \"f:phase\": {},\n",
      "            \"f:podIP\": {},\n",
      "            \"f:podIPs\": {\n",
      "              \".\": {},\n",
      "              \"k:{\\\"ip\\\":\\\"172.17.0.5\\\"}\": {\n",
      "                \".\": {},\n",
      "                \"f:ip\": {}\n",
      "              }\n",
      "            },\n",
      "            \"f:startTime\": {}\n",
      "          }\n",
      "        },\n",
      "        \"subresource\": \"status\"\n",
      "      }\n",
      "    ]\n",
      "  },\n",
      "  \"spec\": {\n",
      "    \"volumes\": [\n",
      "      {\n",
      "        \"name\": \"kube-api-access-hxk6p\",\n",
      "        \"projected\": {\n",
      "          \"sources\": [\n",
      "            {\n",
      "              \"serviceAccountToken\": {\n",
      "                \"expirationSeconds\": 3607,\n",
      "                \"path\": \"token\"\n",
      "              }\n",
      "            },\n",
      "            {\n",
      "              \"configMap\": {\n",
      "                \"name\": \"kube-root-ca.crt\",\n",
      "                \"items\": [\n",
      "                  {\n",
      "                    \"key\": \"ca.crt\",\n",
      "                    \"path\": \"ca.crt\"\n",
      "                  }\n",
      "                ]\n",
      "              }\n",
      "            },\n",
      "            {\n",
      "              \"downwardAPI\": {\n",
      "                \"items\": [\n",
      "                  {\n",
      "                    \"path\": \"namespace\",\n",
      "                    \"fieldRef\": {\n",
      "                      \"apiVersion\": \"v1\",\n",
      "                      \"fieldPath\": \"metadata.namespace\"\n",
      "                    }\n",
      "                  }\n",
      "                ]\n",
      "              }\n",
      "            }\n",
      "          ],\n",
      "          \"defaultMode\": 420\n",
      "        }\n",
      "      }\n",
      "    ],\n",
      "    \"containers\": [\n",
      "      {\n",
      "        \"name\": \"web-1\",\n",
      "        \"image\": \"nginx\",\n",
      "        \"resources\": {},\n",
      "        \"volumeMounts\": [\n",
      "          {\n",
      "            \"name\": \"kube-api-access-hxk6p\",\n",
      "            \"readOnly\": true,\n",
      "            \"mountPath\": \"/var/run/secrets/kubernetes.io/serviceaccount\"\n",
      "          }\n",
      "        ],\n",
      "        \"terminationMessagePath\": \"/dev/termination-log\",\n",
      "        \"terminationMessagePolicy\": \"File\",\n",
      "        \"imagePullPolicy\": \"Always\"\n",
      "      }\n",
      "    ],\n",
      "    \"restartPolicy\": \"Always\",\n",
      "    \"terminationGracePeriodSeconds\": 30,\n",
      "    \"dnsPolicy\": \"ClusterFirst\",\n",
      "    \"serviceAccountName\": \"default\",\n",
      "    \"serviceAccount\": \"default\",\n",
      "    \"nodeName\": \"minikube\",\n",
      "    \"securityContext\": {},\n",
      "    \"schedulerName\": \"default-scheduler\",\n",
      "    \"tolerations\": [\n",
      "      {\n",
      "        \"key\": \"node.kubernetes.io/not-ready\",\n",
      "        \"operator\": \"Exists\",\n",
      "        \"effect\": \"NoExecute\",\n",
      "        \"tolerationSeconds\": 300\n",
      "      },\n",
      "      {\n",
      "        \"key\": \"node.kubernetes.io/unreachable\",\n",
      "        \"operator\": \"Exists\",\n",
      "        \"effect\": \"NoExecute\",\n",
      "        \"tolerationSeconds\": 300\n",
      "      }\n",
      "    ],\n",
      "    \"priority\": 0,\n",
      "    \"enableServiceLinks\": true,\n",
      "    \"preemptionPolicy\": \"PreemptLowerPriority\"\n",
      "  },\n",
      "  \"status\": {\n",
      "    \"phase\": \"Running\",\n",
      "    \"conditions\": [\n",
      "      {\n",
      "        \"type\": \"Initialized\",\n",
      "        \"status\": \"True\",\n",
      "        \"lastProbeTime\": null,\n",
      "        \"lastTransitionTime\": \"2022-03-30T17:08:32Z\"\n",
      "      },\n",
      "      {\n",
      "        \"type\": \"Ready\",\n",
      "        \"status\": \"True\",\n",
      "        \"lastProbeTime\": null,\n",
      "        \"lastTransitionTime\": \"2022-03-30T17:08:41Z\"\n",
      "      },\n",
      "      {\n",
      "        \"type\": \"ContainersReady\",\n",
      "        \"status\": \"True\",\n",
      "        \"lastProbeTime\": null,\n",
      "        \"lastTransitionTime\": \"2022-03-30T17:08:41Z\"\n",
      "      },\n",
      "      {\n",
      "        \"type\": \"PodScheduled\",\n",
      "        \"status\": \"True\",\n",
      "        \"lastProbeTime\": null,\n",
      "        \"lastTransitionTime\": \"2022-03-30T17:08:32Z\"\n",
      "      }\n",
      "    ],\n",
      "    \"hostIP\": \"192.168.49.2\",\n",
      "    \"podIP\": \"172.17.0.5\",\n",
      "    \"podIPs\": [\n",
      "      {\n",
      "        \"ip\": \"172.17.0.5\"\n",
      "      }\n",
      "    ],\n",
      "    \"startTime\": \"2022-03-30T17:08:32Z\",\n",
      "    \"containerStatuses\": [\n",
      "      {\n",
      "        \"name\": \"web-1\",\n",
      "        \"state\": {\n",
      "          \"running\": {\n",
      "            \"startedAt\": \"2022-03-30T17:08:40Z\"\n",
      "          }\n",
      "        },\n",
      "        \"lastState\": {},\n",
      "        \"ready\": true,\n",
      "        \"restartCount\": 0,\n",
      "        \"image\": \"nginx:latest\",\n",
      "        \"imageID\": \"docker-pullable://nginx@sha256:2275af0f20d71b293916f1958f8497f987b8d8fd8113df54635f2a5915002bf1\",\n",
      "        \"containerID\": \"docker://595ff739844acf05284476b2112f300b9ae18d02f010b1cffc3dc56e67b198dc\",\n",
      "        \"started\": true\n",
      "      }\n",
      "    ],\n",
      "    \"qosClass\": \"BestEffort\"\n",
      "  }\n",
      "}\n"
     ]
    }
   ],
   "source": [
    "# what does one pod look like?\n",
    "/usr/bin/curl -s \"$apiServerUrl/api/v1/namespaces/default/pods\" `\n",
    "   --header \"Authorization: Bearer $token\" --cacert $caCrtFilename `\n",
    "   | jq '.items[0]'"
   ]
  },
  {
   "cell_type": "code",
   "execution_count": null,
   "metadata": {
    "dotnet_interactive": {
     "language": "pwsh"
    }
   },
   "outputs": [
    {
     "name": "stdout",
     "output_type": "stream",
     "text": [
      "\"web-1\"\n",
      "\"web-10\"\n",
      "\"web-2\"\n",
      "\"web-3\"\n",
      "\"web-4\"\n",
      "\"web-5\"\n",
      "\"web-6\"\n",
      "\"web-7\"\n",
      "\"web-8\"\n",
      "\"web-9\"\n",
      "\"web01\"\n"
     ]
    }
   ],
   "source": [
    "/usr/bin/curl -s \"$apiServerUrl/api/v1/namespaces/default/pods\" `\n",
    "   --header \"Authorization: Bearer $token\" --cacert $caCrtFilename `\n",
    "   | jq '.items[] | .metadata.name'"
   ]
  },
  {
   "cell_type": "code",
   "execution_count": null,
   "metadata": {
    "dotnet_interactive": {
     "language": "pwsh"
    }
   },
   "outputs": [
    {
     "name": "stdout",
     "output_type": "stream",
     "text": [
      "\"172.17.0.5\"\n",
      "\"172.17.0.13\"\n",
      "\"172.17.0.4\"\n",
      "\"172.17.0.7\"\n",
      "\"172.17.0.6\"\n",
      "\"172.17.0.10\"\n",
      "\"172.17.0.8\"\n",
      "\"172.17.0.9\"\n",
      "\"172.17.0.11\"\n",
      "\"172.17.0.12\"\n",
      "\"172.17.0.3\"\n"
     ]
    }
   ],
   "source": [
    "/usr/bin/curl -s \"$apiServerUrl/api/v1/namespaces/default/pods\" `\n",
    "   --header \"Authorization: Bearer $token\" --cacert $caCrtFilename `\n",
    "   | jq '.items[] | .status.podIPs[0].ip'"
   ]
  },
  {
   "cell_type": "code",
   "execution_count": null,
   "metadata": {
    "dotnet_interactive": {
     "language": "pwsh"
    }
   },
   "outputs": [],
   "source": []
  }
 ],
 "metadata": {
  "kernelspec": {
   "display_name": ".NET (PowerShell)",
   "language": "PowerShell",
   "name": ".net-pwsh"
  },
  "language_info": {
   "name": "PowerShell"
  }
 },
 "nbformat": 4,
 "nbformat_minor": 2
}
