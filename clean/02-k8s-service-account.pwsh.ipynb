{
 "cells": [
  {
   "cell_type": "code",
   "execution_count": null,
   "metadata": {
    "dotnet_interactive": {
     "language": "pwsh"
    },
    "vscode": {
     "languageId": "dotnet-interactive.pwsh"
    }
   },
   "outputs": [],
   "source": [
    "# service account to access namespaces and pods list and details\n",
    "kubectl create serviceaccount cp-api-explorer\n",
    "\n",
    "# ro permissions - GET/LIST/WATCH namespaces and pods on cluster level\n",
    "kubectl create clusterrole ns-reader --verb=get,list,watch --resource=namespaces,pods\n",
    "\n",
    "# bind role(permissions) to account - CLUSTER level\n",
    "kubectl create clusterrolebinding ns-reader --clusterrole ns-reader --serviceaccount default:cp-api-explorer\n"
   ]
  },
  {
   "cell_type": "markdown",
   "metadata": {
    "dotnet_interactive": {
     "language": "pwsh"
    }
   },
   "source": [
    "[doc](https://nieldw.medium.com/curling-the-kubernetes-api-server-d7675cfc398c)"
   ]
  },
  {
   "cell_type": "code",
   "execution_count": null,
   "metadata": {
    "dotnet_interactive": {
     "language": "pwsh"
    },
    "vscode": {
     "languageId": "dotnet-interactive.pwsh"
    }
   },
   "outputs": [],
   "source": [
    "# account has secret(s)\n",
    "kubectl get serviceaccount cp-api-explorer -o json"
   ]
  },
  {
   "cell_type": "code",
   "execution_count": null,
   "metadata": {
    "dotnet_interactive": {
     "language": "pwsh"
    },
    "vscode": {
     "languageId": "dotnet-interactive.pwsh"
    }
   },
   "outputs": [],
   "source": [
    "# list secrets\n",
    "kubectl get secrets"
   ]
  },
  {
   "cell_type": "code",
   "execution_count": null,
   "metadata": {
    "dotnet_interactive": {
     "language": "pwsh"
    },
    "vscode": {
     "languageId": "dotnet-interactive.pwsh"
    }
   },
   "outputs": [],
   "source": [
    "# we know which from SA, right\n",
    "$serviceAccount = \"cp-api-explorer\"\n",
    "# get right secret\n",
    "$secretName = kubectl get serviceaccount $serviceAccount -o json | ConvertFrom-Json `\n",
    "    | % { $_.secrets } `\n",
    "    | ? { $_.name.startsWith(\"$($serviceAccount)-token-\") } `\n",
    "    | select -First 1 | % { $_.name }\n",
    "$secretName\n",
    "# secret from secretName\n",
    "$token = kubectl get secret $secretName -o json | ConvertFrom-Json | % { $_.data.token | base64 -d }\n",
    "# ca.crt\n",
    "$caCrtFilename = \"./k8sca.crt\"\n",
    "kubectl get secret $secretName -o json | ConvertFrom-Json | % { $_.data.\"ca.crt\" | base64 -d } | Out-File $caCrtFilename\n",
    "gc $caCrtFilename"
   ]
  },
  {
   "cell_type": "code",
   "execution_count": null,
   "metadata": {
    "dotnet_interactive": {
     "language": "pwsh"
    },
    "vscode": {
     "languageId": "dotnet-interactive.pwsh"
    }
   },
   "outputs": [],
   "source": [
    "# k8s API endpoint (if not in minikube, right? - it depends...)\n",
    "$server = kubectl -n default get endpoints kubernetes --no-headers | awk '{ print $2 }'\n",
    "$apiServerUrl = \"https://$($server)\"\n",
    "$apiServerUrl"
   ]
  },
  {
   "cell_type": "code",
   "execution_count": null,
   "metadata": {
    "dotnet_interactive": {
     "language": "pwsh"
    },
    "vscode": {
     "languageId": "dotnet-interactive.pwsh"
    }
   },
   "outputs": [],
   "source": [
    "# with minikube our kube config has server address+port\n",
    "kubectl config view -o json | jq '.clusters[] | .name'\n",
    "\n",
    "# kubectl config view -o json | jq '.clusters[] | select(.name == \"\"minikube\"\")'\n",
    "\n",
    "kubectl config view -o json | jq -c '.clusters[] | select(.name == \"\"minikube\"\") | .cluster.server'\n",
    "\n",
    "$apiServerUrl = kubectl config view -o json | jq -c '.clusters[] | select(.name == \"\"minikube\"\") | .cluster.server'"
   ]
  },
  {
   "cell_type": "code",
   "execution_count": null,
   "metadata": {
    "dotnet_interactive": {
     "language": "pwsh"
    },
    "vscode": {
     "languageId": "dotnet-interactive.pwsh"
    }
   },
   "outputs": [],
   "source": [
    "# run few web servers\n",
    "1..10 | % { kubectl run \"web-$($_)\" --image nginx }"
   ]
  },
  {
   "cell_type": "code",
   "execution_count": null,
   "metadata": {
    "dotnet_interactive": {
     "language": "pwsh"
    },
    "vscode": {
     "languageId": "dotnet-interactive.pwsh"
    }
   },
   "outputs": [],
   "source": [
    "# what does one pod look like?\n",
    "/usr/bin/curl -s \"$apiServerUrl/api/v1/namespaces/default/pods\" `\n",
    "   --header \"Authorization: Bearer $token\" --cacert $caCrtFilename `\n",
    "   | jq '.items[0]'"
   ]
  },
  {
   "cell_type": "code",
   "execution_count": null,
   "metadata": {
    "dotnet_interactive": {
     "language": "pwsh"
    },
    "vscode": {
     "languageId": "dotnet-interactive.pwsh"
    }
   },
   "outputs": [],
   "source": [
    "/usr/bin/curl -s \"$apiServerUrl/api/v1/namespaces/default/pods\" `\n",
    "   --header \"Authorization: Bearer $token\" --cacert $caCrtFilename `\n",
    "   | jq '.items[] | .metadata.name'"
   ]
  },
  {
   "cell_type": "code",
   "execution_count": null,
   "metadata": {
    "dotnet_interactive": {
     "language": "pwsh"
    },
    "vscode": {
     "languageId": "dotnet-interactive.pwsh"
    }
   },
   "outputs": [],
   "source": [
    "/usr/bin/curl -s \"$apiServerUrl/api/v1/namespaces/default/pods\" `\n",
    "   --header \"Authorization: Bearer $token\" --cacert $caCrtFilename `\n",
    "   | jq '.items[] | .status.podIPs[0].ip'"
   ]
  },
  {
   "cell_type": "code",
   "execution_count": null,
   "metadata": {
    "dotnet_interactive": {
     "language": "pwsh"
    },
    "vscode": {
     "languageId": "dotnet-interactive.pwsh"
    }
   },
   "outputs": [],
   "source": []
  }
 ],
 "metadata": {
  "kernelspec": {
   "display_name": ".NET (PowerShell)",
   "language": "PowerShell",
   "name": ".net-pwsh"
  },
  "language_info": {
   "name": "PowerShell"
  }
 },
 "nbformat": 4,
 "nbformat_minor": 2
}
