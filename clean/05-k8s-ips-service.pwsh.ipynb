{
 "cells": [
  {
   "cell_type": "code",
   "execution_count": null,
   "metadata": {
    "dotnet_interactive": {
     "language": "pwsh"
    },
    "vscode": {
     "languageId": "dotnet-interactive.pwsh"
    }
   },
   "outputs": [],
   "source": [
    "kubectl create configmap main-sh --from-file=k8s-api-client.sh\n",
    "\n",
    "kubectl create configmap dcobj-sample --from-file=dcobjs.json\n",
    "\n",
    "@\"\n",
    "apiVersion: v1\n",
    "kind: Pod\n",
    "metadata:\n",
    "  name: middleware-service\n",
    "  labels:\n",
    "    environment: production\n",
    "    app: nginx\n",
    "\n",
    "# service account to read ns and pods\n",
    "spec:\n",
    "  serviceAccountName: cp-api-explorer\n",
    "\n",
    "# folder served by web server\n",
    "  volumes:\n",
    "  - name: shared-data\n",
    "    emptyDir: {}\n",
    "  # sample file\n",
    "  - name: dcobj-sample\n",
    "    configMap:\n",
    "      name: dcobj-sample\n",
    "  # middleware script for worker\n",
    "  - name: main-sh\n",
    "    configMap:\n",
    "        name: main-sh\n",
    "\n",
    "  containers:\n",
    "\n",
    "  - name: web\n",
    "    image: nginx\n",
    "    volumeMounts:\n",
    "    \n",
    "    - name: shared-data\n",
    "      mountPath: /usr/share/nginx/html\n",
    "\n",
    "  - name: worker\n",
    "    image: ubuntu\n",
    "    volumeMounts:\n",
    "    - name: shared-data\n",
    "      mountPath: /pod-data\n",
    "    - mountPath: /usr/local/main\n",
    "      name: main-sh\n",
    "      readOnly: true\n",
    "    command: [\"/bin/bash\"]\n",
    "    args:\n",
    "      - \"-c\"\n",
    "      - \"date | tee /pod-data/index.html; . /usr/local/main/k8s-api-client.sh\"\n",
    "\"@ | kubectl apply -f -"
   ]
  },
  {
   "cell_type": "code",
   "execution_count": null,
   "metadata": {
    "dotnet_interactive": {
     "language": "pwsh"
    },
    "vscode": {
     "languageId": "dotnet-interactive.pwsh"
    }
   },
   "outputs": [],
   "source": [
    "kubectl describe pod middleware-service"
   ]
  },
  {
   "cell_type": "code",
   "execution_count": null,
   "metadata": {
    "dotnet_interactive": {
     "language": "pwsh"
    },
    "vscode": {
     "languageId": "dotnet-interactive.pwsh"
    }
   },
   "outputs": [],
   "source": [
    "kubectl logs  middleware-service -c worker\n",
    "\n",
    "# kubectl logs  middleware-service -c worker -f\n"
   ]
  },
  {
   "cell_type": "code",
   "execution_count": null,
   "metadata": {
    "dotnet_interactive": {
     "language": "pwsh"
    },
    "vscode": {
     "languageId": "dotnet-interactive.pwsh"
    }
   },
   "outputs": [],
   "source": [
    "# expose web server on node port\n",
    "kubectl expose pod middleware-service --type=NodePort --port=80\n",
    "\n",
    "# minikube service --url middleware-service "
   ]
  },
  {
   "cell_type": "code",
   "execution_count": null,
   "metadata": {
    "dotnet_interactive": {
     "language": "pwsh"
    },
    "vscode": {
     "languageId": "dotnet-interactive.pwsh"
    }
   },
   "outputs": [],
   "source": [
    "# create new NS\n",
    "kubectl create namespace lab\n",
    "\n",
    "# start some services\n",
    "1..5 | % {\n",
    "    $index = $_\n",
    "    kubectl run \"web-$index\" --image nginx -n lab\n",
    "}"
   ]
  },
  {
   "cell_type": "code",
   "execution_count": null,
   "metadata": {
    "dotnet_interactive": {
     "language": "pwsh"
    },
    "vscode": {
     "languageId": "dotnet-interactive.pwsh"
    }
   },
   "outputs": [],
   "source": [
    "kubectl get pods -A -o wide"
   ]
  },
  {
   "cell_type": "code",
   "execution_count": null,
   "metadata": {
    "dotnet_interactive": {
     "language": "pwsh"
    },
    "vscode": {
     "languageId": "dotnet-interactive.pwsh"
    }
   },
   "outputs": [],
   "source": [
    "# remove lab pods\n",
    "kubectl delete namespace lab"
   ]
  },
  {
   "cell_type": "code",
   "execution_count": null,
   "metadata": {
    "dotnet_interactive": {
     "language": "pwsh"
    },
    "vscode": {
     "languageId": "dotnet-interactive.pwsh"
    }
   },
   "outputs": [],
   "source": [
    "# clean up\n",
    "kubectl delete pod middleware-service\n",
    "\n",
    "kubectl delete namespace lab"
   ]
  },
  {
   "cell_type": "code",
   "execution_count": null,
   "metadata": {
    "dotnet_interactive": {
     "language": "pwsh"
    },
    "vscode": {
     "languageId": "dotnet-interactive.pwsh"
    }
   },
   "outputs": [],
   "source": [
    "$addr = minikube service --url middleware-service | cut -d \"/\" -f 3\n",
    "$addr"
   ]
  },
  {
   "cell_type": "code",
   "execution_count": null,
   "metadata": {
    "dotnet_interactive": {
     "language": "pwsh"
    },
    "vscode": {
     "languageId": "dotnet-interactive.pwsh"
    }
   },
   "outputs": [],
   "source": [
    "ngrok http $addr"
   ]
  },
  {
   "cell_type": "code",
   "execution_count": null,
   "metadata": {
    "dotnet_interactive": {
     "language": "pwsh"
    },
    "vscode": {
     "languageId": "dotnet-interactive.pwsh"
    }
   },
   "outputs": [],
   "source": []
  }
 ],
 "metadata": {
  "kernelspec": {
   "display_name": ".NET (PowerShell)",
   "language": "PowerShell",
   "name": ".net-pwsh"
  },
  "language_info": {
   "name": "PowerShell"
  }
 },
 "nbformat": 4,
 "nbformat_minor": 2
}
