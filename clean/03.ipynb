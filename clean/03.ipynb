{
 "cells": [
  {
   "cell_type": "code",
   "execution_count": null,
   "metadata": {},
   "outputs": [
    {
     "name": "stdout",
     "output_type": "stream",
     "text": [
      "\n",
      "\u001b[32;1m NPM(K)    PM(M)      WS(M)     CPU(s)      Id  SI ProcessName\u001b[0m\n",
      "\u001b[32;1m ------    -----      -----     ------      --  -- -----------\u001b[0m\n",
      "      0     0.00       2.39       0.02    5354 …54 zsh\n",
      "\n"
     ]
    }
   ],
   "source": []
  }
 ],
 "metadata": {
  "language_info": {
   "name": "python"
  },
  "orig_nbformat": 4
 },
 "nbformat": 4,
 "nbformat_minor": 2
}
