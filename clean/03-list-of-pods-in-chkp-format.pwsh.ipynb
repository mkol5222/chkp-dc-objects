{
 "cells": [
  {
   "cell_type": "code",
   "execution_count": null,
   "metadata": {
    "dotnet_interactive": {
     "language": "pwsh"
    },
    "vscode": {
     "languageId": "dotnet-interactive.pwsh"
    }
   },
   "outputs": [
    {
     "name": "stdout",
     "output_type": "stream",
     "text": [
      "cp-api-explorer-token-sbfpk\n",
      "./k8sca.crt\n",
      "\"https://192.168.64.6:8443\"\n"
     ]
    }
   ],
   "source": [
    "# API token and CA crt\n",
    "\n",
    "$serviceAccount = \"cp-api-explorer\"\n",
    "# get right secret\n",
    "$secretName = kubectl get serviceaccount cp-api-explorer -o json | ConvertFrom-Json `\n",
    "    | % { $_.secrets } `\n",
    "    | ? { $_.name.startsWith(\"$($serviceAccount)-token-\") } `\n",
    "    | select -First 1 | % { $_.name }\n",
    "$secretName\n",
    "# token from secretName\n",
    "$token = kubectl get secret $secretName -o json | ConvertFrom-Json | % { $_.data.token | base64 -d }\n",
    "# ca.crt\n",
    "$caCrtFilename = \"./k8sca.crt\"\n",
    "kubectl get secret $secretName -o json | ConvertFrom-Json | % { $_.data.\"ca.crt\" | base64 -d } | Out-File $caCrtFilename\n",
    "$caCrtFilename \n",
    "# API server URL\n",
    "$apiServerUrl = kubectl config view -o json | jq -c '.clusters[] | select(.name == \"\"minikube\"\") | .cluster.server'\n",
    "$apiServerUrl"
   ]
  },
  {
   "cell_type": "code",
   "execution_count": null,
   "metadata": {
    "dotnet_interactive": {
     "language": "pwsh"
    },
    "vscode": {
     "languageId": "dotnet-interactive.pwsh"
    }
   },
   "outputs": [
    {
     "name": "stdout",
     "output_type": "stream",
     "text": [
      "web-1\n"
     ]
    }
   ],
   "source": [
    "# test - name of first pod in default NS\n",
    "/usr/bin/curl -s \"$apiServerUrl/api/v1/namespaces/default/pods\" `\n",
    "   --header \"Authorization: Bearer $token\" --cacert $caCrtFilename `\n",
    "   | jq -r '.items[0] | .metadata.name'"
   ]
  },
  {
   "cell_type": "code",
   "execution_count": null,
   "metadata": {
    "dotnet_interactive": {
     "language": "pwsh"
    },
    "vscode": {
     "languageId": "dotnet-interactive.pwsh"
    }
   },
   "outputs": [
    {
     "name": "stdout",
     "output_type": "stream",
     "text": [
      "default\n",
      "kube-node-lease\n",
      "kube-public\n",
      "kube-system\n"
     ]
    }
   ],
   "source": [
    "# list of namespaces\n",
    "$namespaces = /usr/bin/curl -s \"$apiServerUrl/api/v1/namespaces\" `\n",
    "   --header \"Authorization: Bearer $token\" --cacert $caCrtFilename `\n",
    "   | jq -r '.items[] | .metadata.name'\n",
    "$namespaces"
   ]
  },
  {
   "cell_type": "code",
   "execution_count": null,
   "metadata": {
    "dotnet_interactive": {
     "language": "pwsh"
    },
    "vscode": {
     "languageId": "dotnet-interactive.pwsh"
    }
   },
   "outputs": [
    {
     "name": "stdout",
     "output_type": "stream",
     "text": [
      "I0331 15:11:28.672594    2205 loader.go:372] Config loaded from file:  /Users/mkoldov/.kube/config\n",
      "I0331 15:11:28.673649    2205 cert_rotation.go:137] Starting client certificate rotation controller\n",
      "I0331 15:11:28.678320    2205 round_trippers.go:463] GET https://192.168.64.6:8443/api/v1/namespaces/default/services?limit=500\n",
      "I0331 15:11:28.678330    2205 round_trippers.go:469] Request Headers:\n",
      "I0331 15:11:28.678337    2205 round_trippers.go:473]     User-Agent: kubectl/v1.23.3 (darwin/amd64) kubernetes/816c97a\n",
      "I0331 15:11:28.678342    2205 round_trippers.go:473]     Accept: application/json;as=Table;v=v1;g=meta.k8s.io,application/json;as=Table;v=v1beta1;g=meta.k8s.io,application/json\n",
      "I0331 15:11:28.687319    2205 round_trippers.go:574] Response Status: 200 OK in 8 milliseconds\n",
      "I0331 15:11:28.687339    2205 round_trippers.go:577] Response Headers:\n",
      "I0331 15:11:28.687347    2205 round_trippers.go:580]     Audit-Id: 0495e912-83e3-4374-b963-445f9a58915d\n",
      "I0331 15:11:28.687354    2205 round_trippers.go:580]     Cache-Control: no-cache, private\n",
      "I0331 15:11:28.687360    2205 round_trippers.go:580]     Content-Type: application/json\n",
      "I0331 15:11:28.687366    2205 round_trippers.go:580]     Date: Thu, 31 Mar 2022 13:11:28 GMT\n",
      "I0331 15:11:28.687453    2205 request.go:1181] Response Body: {\"kind\":\"Table\",\"apiVersion\":\"meta.k8s.io/v1\",\"metadata\":{\"resourceVersion\":\"889\"},\"columnDefinitions\":[{\"name\":\"Name\",\"type\":\"string\",\"format\":\"name\",\"description\":\"Name must be unique within a namespace. Is required when creating resources, although some resources may allow a client to request the generation of an appropriate name automatically. Name is primarily intended for creation idempotence and configuration definition. Cannot be updated. More info: http://kubernetes.io/docs/user-guide/identifiers#names\",\"priority\":0},{\"name\":\"Type\",\"type\":\"string\",\"format\":\"\",\"description\":\"type determines how the Service is exposed. Defaults to ClusterIP. Valid options are ExternalName, ClusterIP, NodePort, and LoadBalancer. \\\"ClusterIP\\\" allocates a cluster-internal IP address for load-balancing to endpoints. Endpoints are determined by the selector or if that is not specified, by manual construction of an Endpoints object or EndpointSlice objects. If clusterIP is \\\"None\\\", no virtual IP is allocated and the endpoi [truncated 4251 chars]\n",
      "NAME         TYPE        CLUSTER-IP   EXTERNAL-IP   PORT(S)   AGE\n",
      "kubernetes   ClusterIP   10.96.0.1    <none>        443/TCP   8m10s\n"
     ]
    }
   ],
   "source": [
    "# learn from masters - verbose mode of kubectl\n",
    "kubectl get svc -v=8"
   ]
  },
  {
   "cell_type": "code",
   "execution_count": null,
   "metadata": {
    "dotnet_interactive": {
     "language": "pwsh"
    },
    "vscode": {
     "languageId": "dotnet-interactive.pwsh"
    }
   },
   "outputs": [
    {
     "name": "stdout",
     "output_type": "stream",
     "text": [
      "{\n",
      "  \"kind\": \"Status\",\n",
      "  \"apiVersion\": \"v1\",\n",
      "  \"metadata\": {},\n",
      "  \"status\": \"Failure\",\n",
      "  \"message\": \"services is forbidden: User \\\"system:serviceaccount:default:cp-api-explorer\\\" cannot list resource \\\"services\\\" in API group \\\"\\\" in the namespace \\\"default\\\"\",\n",
      "  \"reason\": \"Forbidden\",\n",
      "  \"details\": {\n",
      "    \"kind\": \"services\"\n",
      "  },\n",
      "  \"code\": 403\n",
      "}\n"
     ]
    }
   ],
   "source": [
    "# verbose - list services (expect to fail - no permissions to access SERVICES!)\n",
    "/usr/bin/curl -s \"$apiServerUrl/api/v1/namespaces/default/services\" `\n",
    "   --header \"Authorization: Bearer $token\" --cacert $caCrtFilename `\n"
   ]
  },
  {
   "cell_type": "code",
   "execution_count": null,
   "metadata": {
    "dotnet_interactive": {
     "language": "pwsh"
    },
    "vscode": {
     "languageId": "dotnet-interactive.pwsh"
    }
   },
   "outputs": [],
   "source": [
    "# all pods per namespace with IP address\n",
    "$namespaces | % {\n",
    "    $namespace = $_\n",
    "    /usr/bin/curl -s \"$apiServerUrl/api/v1/namespaces/$namespace/pods\" `\n",
    "        --header \"Authorization: Bearer $token\" --cacert $caCrtFilename `\n",
    "        | ConvertFrom-Json | % { $_.items } | % {\n",
    "            [PSCustomObject] @{\n",
    "                namespace = $namespace;\n",
    "                name = $_.metadata.name;\n",
    "                ip = $_.status.podIPs[0].ip\n",
    "            }\n",
    "        }\n",
    "}"
   ]
  },
  {
   "cell_type": "code",
   "execution_count": null,
   "metadata": {
    "dotnet_interactive": {
     "language": "pwsh"
    },
    "vscode": {
     "languageId": "dotnet-interactive.pwsh"
    }
   },
   "outputs": [],
   "source": [
    "# all pods per namespace with IP address\n",
    "$objects = $namespaces | % {\n",
    "    $namespace = $_\n",
    "    $pods = /usr/bin/curl -s \"$apiServerUrl/api/v1/namespaces/$namespace/pods\" `\n",
    "        --header \"Authorization: Bearer $token\" --cacert $caCrtFilename `\n",
    "        | ConvertFrom-Json | % { $_.items } | % {\n",
    "            [PSCustomObject] @{\n",
    "                namespace = $namespace;\n",
    "                name = $_.metadata.name;\n",
    "                ip = $_.status.podIPs[0].ip\n",
    "            }\n",
    "        }\n",
    "    $ips = $pods | % { $_.ip }\n",
    "    if ($ips.Length -gt 0) { \n",
    "        # Write-Host $namespace \": \" $ips \n",
    "        [PSCustomObject] @{\n",
    "            name = \"ns-$namespace-ips\";\n",
    "            id = \"id-ns-$namespace-ips\";\n",
    "            description = \"IP adresses in namespace $namespace\";\n",
    "            ranges = $ips\n",
    "        }\n",
    "    }\n",
    "}\n",
    "\n",
    "$objects"
   ]
  },
  {
   "cell_type": "code",
   "execution_count": null,
   "metadata": {
    "dotnet_interactive": {
     "language": "pwsh"
    },
    "vscode": {
     "languageId": "dotnet-interactive.pwsh"
    }
   },
   "outputs": [],
   "source": [
    "[PSCustomObject] @{\n",
    "        \"version\" = \"1.0\";\n",
    "        \"description\" = \"Generic Data Center file example\";\n",
    "        \"objects\" = $objects\n",
    "} | ConvertTo-Json -Depth 10 | jq ."
   ]
  },
  {
   "cell_type": "code",
   "execution_count": null,
   "metadata": {
    "dotnet_interactive": {
     "language": "pwsh"
    },
    "vscode": {
     "languageId": "dotnet-interactive.pwsh"
    }
   },
   "outputs": [],
   "source": []
  }
 ],
 "metadata": {
  "kernelspec": {
   "display_name": ".NET (C#)",
   "language": "C#",
   "name": ".net-csharp"
  },
  "language_info": {
   "file_extension": ".cs",
   "mimetype": "text/x-csharp",
   "name": "C#",
   "pygments_lexer": "csharp",
   "version": "9.0"
  },
  "orig_nbformat": 4
 },
 "nbformat": 4,
 "nbformat_minor": 2
}
