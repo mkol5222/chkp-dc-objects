{
 "cells": [
  {
   "cell_type": "code",
   "execution_count": null,
   "metadata": {
    "dotnet_interactive": {
     "language": "pwsh"
    },
    "vscode": {
     "languageId": "dotnet-interactive.pwsh"
    }
   },
   "outputs": [
    {
     "name": "stdout",
     "output_type": "stream",
     "text": [
      "cp-api-explorer-token-sbfpk\n",
      "./k8sca.crt\n",
      "\"https://192.168.64.6:8443\"\n"
     ]
    }
   ],
   "source": [
    "# API token and CA crt\n",
    "\n",
    "$serviceAccount = \"cp-api-explorer\"\n",
    "# get right secret\n",
    "$secretName = kubectl get serviceaccount cp-api-explorer -o json | ConvertFrom-Json `\n",
    "    | % { $_.secrets } `\n",
    "    | ? { $_.name.startsWith(\"$($serviceAccount)-token-\") } `\n",
    "    | select -First 1 | % { $_.name }\n",
    "$secretName\n",
    "# token from secretName\n",
    "$token = kubectl get secret $secretName -o json | ConvertFrom-Json | % { $_.data.token | base64 -d }\n",
    "# ca.crt\n",
    "$caCrtFilename = \"./k8sca.crt\"\n",
    "kubectl get secret $secretName -o json | ConvertFrom-Json | % { $_.data.\"ca.crt\" | base64 -d } | Out-File $caCrtFilename\n",
    "$caCrtFilename \n",
    "# API server URL\n",
    "$apiServerUrl = kubectl config view -o json | jq -c '.clusters[] | select(.name == \"\"minikube\"\") | .cluster.server'\n",
    "$apiServerUrl"
   ]
  },
  {
   "cell_type": "code",
   "execution_count": null,
   "metadata": {
    "dotnet_interactive": {
     "language": "pwsh"
    },
    "vscode": {
     "languageId": "dotnet-interactive.pwsh"
    }
   },
   "outputs": [
    {
     "name": "stdout",
     "output_type": "stream",
     "text": [
      "middleware-service\n"
     ]
    }
   ],
   "source": [
    "# test - name of first pod in default NS\n",
    "/usr/bin/curl -s \"$apiServerUrl/api/v1/namespaces/default/pods\" `\n",
    "   --header \"Authorization: Bearer $token\" --cacert $caCrtFilename `\n",
    "   | jq -r '.items[0] | .metadata.name'"
   ]
  },
  {
   "cell_type": "code",
   "execution_count": null,
   "metadata": {
    "dotnet_interactive": {
     "language": "pwsh"
    },
    "vscode": {
     "languageId": "dotnet-interactive.pwsh"
    }
   },
   "outputs": [
    {
     "name": "stdout",
     "output_type": "stream",
     "text": [
      "default\n",
      "kube-node-lease\n",
      "kube-public\n",
      "kube-system\n",
      "lab\n"
     ]
    }
   ],
   "source": [
    "# list of namespaces\n",
    "$namespaces = /usr/bin/curl -s \"$apiServerUrl/api/v1/namespaces\" `\n",
    "   --header \"Authorization: Bearer $token\" --cacert $caCrtFilename `\n",
    "   | jq -r '.items[] | .metadata.name'\n",
    "$namespaces"
   ]
  },
  {
   "cell_type": "code",
   "execution_count": null,
   "metadata": {
    "dotnet_interactive": {
     "language": "pwsh"
    },
    "vscode": {
     "languageId": "dotnet-interactive.pwsh"
    }
   },
   "outputs": [
    {
     "name": "stdout",
     "output_type": "stream",
     "text": [
      "I0331 16:31:11.700990    4870 loader.go:372] Config loaded from file:  /Users/mkoldov/.kube/config\n",
      "I0331 16:31:11.703243    4870 cert_rotation.go:137] Starting client certificate rotation controller\n",
      "I0331 16:31:11.710653    4870 round_trippers.go:463] GET https://192.168.64.6:8443/api/v1/namespaces/default/services?limit=500\n",
      "I0331 16:31:11.710673    4870 round_trippers.go:469] Request Headers:\n",
      "I0331 16:31:11.710688    4870 round_trippers.go:473]     Accept: application/json;as=Table;v=v1;g=meta.k8s.io,application/json;as=Table;v=v1beta1;g=meta.k8s.io,application/json\n",
      "I0331 16:31:11.710696    4870 round_trippers.go:473]     User-Agent: kubectl/v1.23.3 (darwin/amd64) kubernetes/816c97a\n",
      "I0331 16:31:11.721360    4870 round_trippers.go:574] Response Status: 200 OK in 10 milliseconds\n",
      "I0331 16:31:11.721385    4870 round_trippers.go:577] Response Headers:\n",
      "I0331 16:31:11.721404    4870 round_trippers.go:580]     Content-Type: application/json\n",
      "I0331 16:31:11.721423    4870 round_trippers.go:580]     Date: Thu, 31 Mar 2022 14:31:11 GMT\n",
      "I0331 16:31:11.721432    4870 round_trippers.go:580]     Audit-Id: 10a1ece0-2abb-4d3f-8c55-b8a1a4c4c8a9\n",
      "I0331 16:31:11.721438    4870 round_trippers.go:580]     Cache-Control: no-cache, private\n",
      "I0331 16:31:11.721958    4870 request.go:1181] Response Body: {\"kind\":\"Table\",\"apiVersion\":\"meta.k8s.io/v1\",\"metadata\":{\"resourceVersion\":\"4388\"},\"columnDefinitions\":[{\"name\":\"Name\",\"type\":\"string\",\"format\":\"name\",\"description\":\"Name must be unique within a namespace. Is required when creating resources, although some resources may allow a client to request the generation of an appropriate name automatically. Name is primarily intended for creation idempotence and configuration definition. Cannot be updated. More info: http://kubernetes.io/docs/user-guide/identifiers#names\",\"priority\":0},{\"name\":\"Type\",\"type\":\"string\",\"format\":\"\",\"description\":\"type determines how the Service is exposed. Defaults to ClusterIP. Valid options are ExternalName, ClusterIP, NodePort, and LoadBalancer. \\\"ClusterIP\\\" allocates a cluster-internal IP address for load-balancing to endpoints. Endpoints are determined by the selector or if that is not specified, by manual construction of an Endpoints object or EndpointSlice objects. If clusterIP is \\\"None\\\", no virtual IP is allocated and the endpo [truncated 5137 chars]\n",
      "NAME                 TYPE        CLUSTER-IP       EXTERNAL-IP   PORT(S)        AGE\n",
      "kubernetes           ClusterIP   10.96.0.1        <none>        443/TCP        87m\n",
      "middleware-service   NodePort    10.111.176.163   <none>        80:30662/TCP   69m\n"
     ]
    }
   ],
   "source": [
    "# learn from masters - verbose mode of kubectl\n",
    "kubectl get svc -v=8"
   ]
  },
  {
   "cell_type": "code",
   "execution_count": null,
   "metadata": {
    "dotnet_interactive": {
     "language": "pwsh"
    },
    "vscode": {
     "languageId": "dotnet-interactive.pwsh"
    }
   },
   "outputs": [
    {
     "name": "stdout",
     "output_type": "stream",
     "text": [
      "{\n",
      "  \"kind\": \"Status\",\n",
      "  \"apiVersion\": \"v1\",\n",
      "  \"metadata\": {},\n",
      "  \"status\": \"Failure\",\n",
      "  \"message\": \"services is forbidden: User \\\"system:serviceaccount:default:cp-api-explorer\\\" cannot list resource \\\"services\\\" in API group \\\"\\\" in the namespace \\\"default\\\"\",\n",
      "  \"reason\": \"Forbidden\",\n",
      "  \"details\": {\n",
      "    \"kind\": \"services\"\n",
      "  },\n",
      "  \"code\": 403\n",
      "}\n"
     ]
    }
   ],
   "source": [
    "# verbose - list services (expect to fail - no permissions to access SERVICES!)\n",
    "/usr/bin/curl -s \"$apiServerUrl/api/v1/namespaces/default/services\" `\n",
    "   --header \"Authorization: Bearer $token\" --cacert $caCrtFilename `\n"
   ]
  },
  {
   "cell_type": "code",
   "execution_count": null,
   "metadata": {
    "dotnet_interactive": {
     "language": "pwsh"
    },
    "vscode": {
     "languageId": "dotnet-interactive.pwsh"
    }
   },
   "outputs": [
    {
     "name": "stdout",
     "output_type": "stream",
     "text": [
      "\n",
      "\u001b[32;1mnamespace   name                    ip\u001b[0m\n",
      "\u001b[32;1m---------   ----                    --\u001b[0m\n",
      "default     middleware-service      172.17.0.13\n",
      "default     web-1                   172.17.0.3\n",
      "default     web-10                  172.17.0.12\n",
      "default     web-2                   172.17.0.4\n",
      "default     web-3                   172.17.0.5\n",
      "default     web-4                   172.17.0.6\n",
      "default     web-5                   172.17.0.7\n",
      "default     web-6                   172.17.0.8\n",
      "default     web-7                   172.17.0.9\n",
      "default     web-8                   172.17.0.10\n",
      "default     web-9                   172.17.0.11\n",
      "kube-system coredns-64897985d-tb6lt 172.17.0.2\n",
      "kube-system etcd-minikube           192.168.64…\n",
      "kube-system kube-apiserver-minikube 192.168.64…\n",
      "kube-system kube-controller-manage… 192.168.64…\n",
      "kube-system kube-proxy-m694p        192.168.64…\n",
      "kube-system kube-scheduler-minikube 192.168.64…\n",
      "kube-system storage-provisioner     192.168.64…\n",
      "lab         web-1                   172.17.0.14\n",
      "lab         web-2                   172.17.0.15\n",
      "lab         web-3                   172.17.0.16\n",
      "lab         web-4                   172.17.0.17\n",
      "lab         web-5                   172.17.0.18\n",
      "\n"
     ]
    }
   ],
   "source": [
    "# all pods per namespace with IP address\n",
    "$namespaces | % {\n",
    "    $namespace = $_\n",
    "    /usr/bin/curl -s \"$apiServerUrl/api/v1/namespaces/$namespace/pods\" `\n",
    "        --header \"Authorization: Bearer $token\" --cacert $caCrtFilename `\n",
    "        | ConvertFrom-Json | % { $_.items } | % {\n",
    "            [PSCustomObject] @{\n",
    "                namespace = $namespace;\n",
    "                name = $_.metadata.name;\n",
    "                ip = $_.status.podIPs[0].ip\n",
    "            }\n",
    "        }\n",
    "}"
   ]
  },
  {
   "cell_type": "code",
   "execution_count": null,
   "metadata": {
    "dotnet_interactive": {
     "language": "pwsh"
    },
    "vscode": {
     "languageId": "dotnet-interactive.pwsh"
    }
   },
   "outputs": [
    {
     "name": "stdout",
     "output_type": "stream",
     "text": [
      "\n",
      "\u001b[32;1mname               id                    description                          ranges\u001b[0m\n",
      "\u001b[32;1m----               --                    -----------                          ------\u001b[0m\n",
      "ns-default-ips     id-ns-default-ips     IP adresses in namespace default     {172.17.0.13, 172.17…\n",
      "ns-kube-system-ips id-ns-kube-system-ips IP adresses in namespace kube-system {172.17.0.2, 192.168…\n",
      "ns-lab-ips         id-ns-lab-ips         IP adresses in namespace lab         {172.17.0.14, 172.17…\n",
      "\n"
     ]
    }
   ],
   "source": [
    "# all pods per namespace with IP address\n",
    "$objects = $namespaces | % {\n",
    "    $namespace = $_\n",
    "    $pods = /usr/bin/curl -s \"$apiServerUrl/api/v1/namespaces/$namespace/pods\" `\n",
    "        --header \"Authorization: Bearer $token\" --cacert $caCrtFilename `\n",
    "        | ConvertFrom-Json | % { $_.items } | % {\n",
    "            [PSCustomObject] @{\n",
    "                namespace = $namespace;\n",
    "                name = $_.metadata.name;\n",
    "                ip = $_.status.podIPs[0].ip\n",
    "            }\n",
    "        }\n",
    "    $ips = $pods | % { $_.ip }\n",
    "    if ($ips.Length -gt 0) { \n",
    "        # Write-Host $namespace \": \" $ips \n",
    "        [PSCustomObject] @{\n",
    "            name = \"ns-$namespace-ips\";\n",
    "            id = \"id-ns-$namespace-ips\";\n",
    "            description = \"IP adresses in namespace $namespace\";\n",
    "            ranges = $ips\n",
    "        }\n",
    "    }\n",
    "}\n",
    "\n",
    "$objects"
   ]
  },
  {
   "cell_type": "code",
   "execution_count": null,
   "metadata": {
    "dotnet_interactive": {
     "language": "pwsh"
    },
    "vscode": {
     "languageId": "dotnet-interactive.pwsh"
    }
   },
   "outputs": [
    {
     "name": "stdout",
     "output_type": "stream",
     "text": [
      "{\n",
      "  \"version\": \"1.0\",\n",
      "  \"description\": \"Generic Data Center file example\",\n",
      "  \"objects\": [\n",
      "    {\n",
      "      \"name\": \"ns-default-ips\",\n",
      "      \"id\": \"id-ns-default-ips\",\n",
      "      \"description\": \"IP adresses in namespace default\",\n",
      "      \"ranges\": [\n",
      "        \"172.17.0.13\",\n",
      "        \"172.17.0.3\",\n",
      "        \"172.17.0.12\",\n",
      "        \"172.17.0.4\",\n",
      "        \"172.17.0.5\",\n",
      "        \"172.17.0.6\",\n",
      "        \"172.17.0.7\",\n",
      "        \"172.17.0.8\",\n",
      "        \"172.17.0.9\",\n",
      "        \"172.17.0.10\",\n",
      "        \"172.17.0.11\"\n",
      "      ]\n",
      "    },\n",
      "    {\n",
      "      \"name\": \"ns-kube-system-ips\",\n",
      "      \"id\": \"id-ns-kube-system-ips\",\n",
      "      \"description\": \"IP adresses in namespace kube-system\",\n",
      "      \"ranges\": [\n",
      "        \"172.17.0.2\",\n",
      "        \"192.168.64.6\",\n",
      "        \"192.168.64.6\",\n",
      "        \"192.168.64.6\",\n",
      "        \"192.168.64.6\",\n",
      "        \"192.168.64.6\",\n",
      "        \"192.168.64.6\"\n",
      "      ]\n",
      "    },\n",
      "    {\n",
      "      \"name\": \"ns-lab-ips\",\n",
      "      \"id\": \"id-ns-lab-ips\",\n",
      "      \"description\": \"IP adresses in namespace lab\",\n",
      "      \"ranges\": [\n",
      "        \"172.17.0.14\",\n",
      "        \"172.17.0.15\",\n",
      "        \"172.17.0.16\",\n",
      "        \"172.17.0.17\",\n",
      "        \"172.17.0.18\"\n",
      "      ]\n",
      "    }\n",
      "  ]\n",
      "}\n"
     ]
    }
   ],
   "source": [
    "[PSCustomObject] @{\n",
    "        \"version\" = \"1.0\";\n",
    "        \"description\" = \"Generic Data Center file example\";\n",
    "        \"objects\" = $objects\n",
    "} | ConvertTo-Json -Depth 10 | jq ."
   ]
  },
  {
   "cell_type": "code",
   "execution_count": null,
   "metadata": {
    "dotnet_interactive": {
     "language": "pwsh"
    },
    "vscode": {
     "languageId": "dotnet-interactive.pwsh"
    }
   },
   "outputs": [],
   "source": []
  }
 ],
 "metadata": {
  "kernelspec": {
   "display_name": ".NET (C#)",
   "language": "C#",
   "name": ".net-csharp"
  },
  "language_info": {
   "file_extension": ".cs",
   "mimetype": "text/x-csharp",
   "name": "C#",
   "pygments_lexer": "csharp",
   "version": "9.0"
  },
  "orig_nbformat": 4
 },
 "nbformat": 4,
 "nbformat_minor": 2
}
