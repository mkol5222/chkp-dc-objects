{
 "cells": [
  {
   "cell_type": "code",
   "execution_count": null,
   "metadata": {
    "dotnet_interactive": {
     "language": "pwsh"
    }
   },
   "outputs": [
    {
     "name": "stdout",
     "output_type": "stream",
     "text": [
      "cp-api-explorer-token-zg7g7\n",
      "./k8sca.crt\n",
      "\"https://127.0.0.1:51433\"\n"
     ]
    }
   ],
   "source": [
    "# API token and CA crt\n",
    "\n",
    "$serviceAccount = \"cp-api-explorer\"\n",
    "# get right secret\n",
    "$secretName = kubectl get serviceaccount cp-api-explorer -o json | ConvertFrom-Json `\n",
    "    | % { $_.secrets } `\n",
    "    | ? { $_.name.startsWith(\"$($serviceAccount)-token-\") } `\n",
    "    | select -First 1 | % { $_.name }\n",
    "$secretName\n",
    "# secret from secretName\n",
    "$token = kubectl get secret $secretName -o json | ConvertFrom-Json | % { $_.data.token | base64 -d }\n",
    "# ca.crt\n",
    "$caCrtFilename = \"./k8sca.crt\"\n",
    "kubectl get secret $secretName -o json | ConvertFrom-Json | % { $_.data.\"ca.crt\" | base64 -d } | Out-File $caCrtFilename\n",
    "$caCrtFilename \n",
    "\n",
    "$apiServerUrl = kubectl config view -o json | jq -c '.clusters[] | select(.name == \"\"minikube\"\") | .cluster.server'\n",
    "$apiServerUrl"
   ]
  },
  {
   "cell_type": "code",
   "execution_count": null,
   "metadata": {
    "dotnet_interactive": {
     "language": "pwsh"
    }
   },
   "outputs": [
    {
     "name": "stdout",
     "output_type": "stream",
     "text": [
      "web-1\n"
     ]
    }
   ],
   "source": [
    "# test - name of first pod in default NS\n",
    "/usr/bin/curl -s \"$apiServerUrl/api/v1/namespaces/default/pods\" `\n",
    "   --header \"Authorization: Bearer $token\" --cacert $caCrtFilename `\n",
    "   | jq -r '.items[0] | .metadata.name'"
   ]
  },
  {
   "cell_type": "code",
   "execution_count": null,
   "metadata": {
    "dotnet_interactive": {
     "language": "pwsh"
    }
   },
   "outputs": [
    {
     "name": "stdout",
     "output_type": "stream",
     "text": [
      "default\n",
      "kube-node-lease\n",
      "kube-public\n",
      "kube-system\n"
     ]
    }
   ],
   "source": [
    "# list of namespaces\n",
    "$namespaces = /usr/bin/curl -s \"$apiServerUrl/api/v1/namespaces\" `\n",
    "   --header \"Authorization: Bearer $token\" --cacert $caCrtFilename `\n",
    "   | jq -r '.items[] | .metadata.name'\n",
    "$namespaces"
   ]
  },
  {
   "cell_type": "code",
   "execution_count": null,
   "metadata": {
    "dotnet_interactive": {
     "language": "pwsh"
    }
   },
   "outputs": [
    {
     "name": "stdout",
     "output_type": "stream",
     "text": [
      "\n",
      "\u001b[32;1mnamespace   name                    ip\u001b[0m\n",
      "\u001b[32;1m---------   ----                    --\u001b[0m\n",
      "default     web-1                   172.17.0.5\n",
      "default     web-10                  172.17.0.13\n",
      "default     web-2                   172.17.0.4\n",
      "default     web-3                   172.17.0.7\n",
      "default     web-4                   172.17.0.6\n",
      "default     web-5                   172.17.0.10\n",
      "default     web-6                   172.17.0.8\n",
      "default     web-7                   172.17.0.9\n",
      "default     web-8                   172.17.0.11\n",
      "default     web-9                   172.17.0.12\n",
      "default     web01                   172.17.0.3\n",
      "kube-system coredns-64897985d-wc4c9 172.17.0.2\n",
      "kube-system etcd-minikube           192.168.49…\n",
      "kube-system kube-apiserver-minikube 192.168.49…\n",
      "kube-system kube-controller-manage… 192.168.49…\n",
      "kube-system kube-proxy-t59s8        192.168.49…\n",
      "kube-system kube-scheduler-minikube 192.168.49…\n",
      "kube-system storage-provisioner     192.168.49…\n",
      "\n"
     ]
    }
   ],
   "source": [
    "# all pods per namespace with IP address\n",
    "$namespaces | % {\n",
    "    $namespace = $_\n",
    "    /usr/bin/curl -s \"$apiServerUrl/api/v1/namespaces/$namespace/pods\" `\n",
    "        --header \"Authorization: Bearer $token\" --cacert $caCrtFilename `\n",
    "        | ConvertFrom-Json | % { $_.items } | % {\n",
    "            [PSCustomObject] @{\n",
    "                namespace = $namespace;\n",
    "                name = $_.metadata.name;\n",
    "                ip = $_.status.podIPs[0].ip\n",
    "            }\n",
    "        }\n",
    "}"
   ]
  },
  {
   "cell_type": "code",
   "execution_count": null,
   "metadata": {
    "dotnet_interactive": {
     "language": "pwsh"
    }
   },
   "outputs": [
    {
     "name": "stdout",
     "output_type": "stream",
     "text": [
      "\n",
      "\u001b[32;1mname               id                    description                          ranges\u001b[0m\n",
      "\u001b[32;1m----               --                    -----------                          ------\u001b[0m\n",
      "ns-default-ips     id-ns-default-ips     IP adresses in namespace default     {172.17.0.5, 172.17.…\n",
      "ns-kube-system-ips id-ns-kube-system-ips IP adresses in namespace kube-system {172.17.0.2, 192.168…\n",
      "\n"
     ]
    }
   ],
   "source": [
    "# all pods per namespace with IP address\n",
    "$objects = $namespaces | % {\n",
    "    $namespace = $_\n",
    "    $pods = /usr/bin/curl -s \"$apiServerUrl/api/v1/namespaces/$namespace/pods\" `\n",
    "        --header \"Authorization: Bearer $token\" --cacert $caCrtFilename `\n",
    "        | ConvertFrom-Json | % { $_.items } | % {\n",
    "            [PSCustomObject] @{\n",
    "                namespace = $namespace;\n",
    "                name = $_.metadata.name;\n",
    "                ip = $_.status.podIPs[0].ip\n",
    "            }\n",
    "        }\n",
    "    $ips = $pods | % { $_.ip }\n",
    "    if ($ips.Length -gt 0) { \n",
    "        # Write-Host $namespace \": \" $ips \n",
    "        [PSCustomObject] @{\n",
    "            name = \"ns-$namespace-ips\";\n",
    "            id = \"id-ns-$namespace-ips\";\n",
    "            description = \"IP adresses in namespace $namespace\";\n",
    "            ranges = $ips\n",
    "        }\n",
    "    }\n",
    "}\n",
    "\n",
    "$objects"
   ]
  },
  {
   "cell_type": "code",
   "execution_count": null,
   "metadata": {
    "dotnet_interactive": {
     "language": "pwsh"
    }
   },
   "outputs": [
    {
     "name": "stdout",
     "output_type": "stream",
     "text": [
      "{\n",
      "  \"version\": \"1.0\",\n",
      "  \"description\": \"Generic Data Center file example\",\n",
      "  \"objects\": [\n",
      "    {\n",
      "      \"name\": \"ns-default-ips\",\n",
      "      \"id\": \"id-ns-default-ips\",\n",
      "      \"description\": \"IP adresses in namespace default\",\n",
      "      \"ranges\": [\n",
      "        \"172.17.0.5\",\n",
      "        \"172.17.0.13\",\n",
      "        \"172.17.0.4\",\n",
      "        \"172.17.0.7\",\n",
      "        \"172.17.0.6\",\n",
      "        \"172.17.0.10\",\n",
      "        \"172.17.0.8\",\n",
      "        \"172.17.0.9\",\n",
      "        \"172.17.0.11\",\n",
      "        \"172.17.0.12\",\n",
      "        \"172.17.0.3\"\n",
      "      ]\n",
      "    },\n",
      "    {\n",
      "      \"name\": \"ns-kube-system-ips\",\n",
      "      \"id\": \"id-ns-kube-system-ips\",\n",
      "      \"description\": \"IP adresses in namespace kube-system\",\n",
      "      \"ranges\": [\n",
      "        \"172.17.0.2\",\n",
      "        \"192.168.49.2\",\n",
      "        \"192.168.49.2\",\n",
      "        \"192.168.49.2\",\n",
      "        \"192.168.49.2\",\n",
      "        \"192.168.49.2\",\n",
      "        \"192.168.49.2\"\n",
      "      ]\n",
      "    }\n",
      "  ]\n",
      "}\n"
     ]
    }
   ],
   "source": [
    "[PSCustomObject] @{\n",
    "        \"version\" = \"1.0\";\n",
    "        \"description\" = \"Generic Data Center file example\";\n",
    "        \"objects\" = $objects\n",
    "} | ConvertTo-Json -Depth 10 | jq ."
   ]
  },
  {
   "cell_type": "code",
   "execution_count": null,
   "metadata": {
    "dotnet_interactive": {
     "language": "pwsh"
    }
   },
   "outputs": [],
   "source": []
  }
 ],
 "metadata": {
  "kernelspec": {
   "display_name": ".NET (C#)",
   "language": "C#",
   "name": ".net-csharp"
  },
  "language_info": {
   "file_extension": ".cs",
   "mimetype": "text/x-csharp",
   "name": "C#",
   "pygments_lexer": "csharp",
   "version": "9.0"
  },
  "orig_nbformat": 4
 },
 "nbformat": 4,
 "nbformat_minor": 2
}
