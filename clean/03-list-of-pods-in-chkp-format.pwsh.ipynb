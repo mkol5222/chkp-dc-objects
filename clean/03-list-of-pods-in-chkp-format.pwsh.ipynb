{
 "cells": [
  {
   "cell_type": "code",
   "execution_count": null,
   "metadata": {
    "dotnet_interactive": {
     "language": "pwsh"
    },
    "vscode": {
     "languageId": "dotnet-interactive.pwsh"
    }
   },
   "outputs": [],
   "source": [
    "# API token and CA crt\n",
    "\n",
    "$serviceAccount = \"cp-api-explorer\"\n",
    "# get right secret\n",
    "$secretName = kubectl get serviceaccount cp-api-explorer -o json | ConvertFrom-Json `\n",
    "    | % { $_.secrets } `\n",
    "    | ? { $_.name.startsWith(\"$($serviceAccount)-token-\") } `\n",
    "    | select -First 1 | % { $_.name }\n",
    "$secretName\n",
    "# token from secretName\n",
    "$token = kubectl get secret $secretName -o json | ConvertFrom-Json | % { $_.data.token | base64 -d }\n",
    "# ca.crt\n",
    "$caCrtFilename = \"./k8sca.crt\"\n",
    "kubectl get secret $secretName -o json | ConvertFrom-Json | % { $_.data.\"ca.crt\" | base64 -d } | Out-File $caCrtFilename\n",
    "$caCrtFilename \n",
    "# API server URL\n",
    "$apiServerUrl = kubectl config view -o json | jq -c '.clusters[] | select(.name == \"\"minikube\"\") | .cluster.server'\n",
    "$apiServerUrl"
   ]
  },
  {
   "cell_type": "code",
   "execution_count": null,
   "metadata": {
    "dotnet_interactive": {
     "language": "pwsh"
    },
    "vscode": {
     "languageId": "dotnet-interactive.pwsh"
    }
   },
   "outputs": [],
   "source": [
    "# test - name of first pod in default NS\n",
    "/usr/bin/curl -s \"$apiServerUrl/api/v1/namespaces/default/pods\" `\n",
    "   --header \"Authorization: Bearer $token\" --cacert $caCrtFilename `\n",
    "   | jq -r '.items[0] | .metadata.name'"
   ]
  },
  {
   "cell_type": "code",
   "execution_count": null,
   "metadata": {
    "dotnet_interactive": {
     "language": "pwsh"
    },
    "vscode": {
     "languageId": "dotnet-interactive.pwsh"
    }
   },
   "outputs": [],
   "source": [
    "# list of namespaces\n",
    "$namespaces = /usr/bin/curl -s \"$apiServerUrl/api/v1/namespaces\" `\n",
    "   --header \"Authorization: Bearer $token\" --cacert $caCrtFilename `\n",
    "   | jq -r '.items[] | .metadata.name'\n",
    "$namespaces"
   ]
  },
  {
   "cell_type": "code",
   "execution_count": null,
   "metadata": {
    "dotnet_interactive": {
     "language": "pwsh"
    },
    "vscode": {
     "languageId": "dotnet-interactive.pwsh"
    }
   },
   "outputs": [],
   "source": [
    "# learn from masters - verbose mode of kubectl\n",
    "kubectl get svc -v=8"
   ]
  },
  {
   "cell_type": "code",
   "execution_count": null,
   "metadata": {
    "dotnet_interactive": {
     "language": "pwsh"
    },
    "vscode": {
     "languageId": "dotnet-interactive.pwsh"
    }
   },
   "outputs": [],
   "source": [
    "# verbose - list services (expect to fail - no permissions to access SERVICES!)\n",
    "/usr/bin/curl -s \"$apiServerUrl/api/v1/namespaces/default/services\" `\n",
    "   --header \"Authorization: Bearer $token\" --cacert $caCrtFilename `\n"
   ]
  },
  {
   "cell_type": "code",
   "execution_count": null,
   "metadata": {
    "dotnet_interactive": {
     "language": "pwsh"
    },
    "vscode": {
     "languageId": "dotnet-interactive.pwsh"
    }
   },
   "outputs": [],
   "source": [
    "# all pods per namespace with IP address\n",
    "$namespaces | % {\n",
    "    $namespace = $_\n",
    "    /usr/bin/curl -s \"$apiServerUrl/api/v1/namespaces/$namespace/pods\" `\n",
    "        --header \"Authorization: Bearer $token\" --cacert $caCrtFilename `\n",
    "        | ConvertFrom-Json | % { $_.items } | % {\n",
    "            [PSCustomObject] @{\n",
    "                namespace = $namespace;\n",
    "                name = $_.metadata.name;\n",
    "                ip = $_.status.podIPs[0].ip\n",
    "            }\n",
    "        }\n",
    "}"
   ]
  },
  {
   "cell_type": "code",
   "execution_count": null,
   "metadata": {
    "dotnet_interactive": {
     "language": "pwsh"
    },
    "vscode": {
     "languageId": "dotnet-interactive.pwsh"
    }
   },
   "outputs": [],
   "source": [
    "# all pods per namespace with IP address\n",
    "$objects = $namespaces | % {\n",
    "    $namespace = $_\n",
    "    $pods = /usr/bin/curl -s \"$apiServerUrl/api/v1/namespaces/$namespace/pods\" `\n",
    "        --header \"Authorization: Bearer $token\" --cacert $caCrtFilename `\n",
    "        | ConvertFrom-Json | % { $_.items } | % {\n",
    "            [PSCustomObject] @{\n",
    "                namespace = $namespace;\n",
    "                name = $_.metadata.name;\n",
    "                ip = $_.status.podIPs[0].ip\n",
    "            }\n",
    "        }\n",
    "    $ips = $pods | % { $_.ip }\n",
    "    if ($ips.Length -gt 0) { \n",
    "        # Write-Host $namespace \": \" $ips \n",
    "        [PSCustomObject] @{\n",
    "            name = \"ns-$namespace-ips\";\n",
    "            id = \"id-ns-$namespace-ips\";\n",
    "            description = \"IP adresses in namespace $namespace\";\n",
    "            ranges = $ips\n",
    "        }\n",
    "    }\n",
    "}\n",
    "\n",
    "$objects"
   ]
  },
  {
   "cell_type": "code",
   "execution_count": null,
   "metadata": {
    "dotnet_interactive": {
     "language": "pwsh"
    },
    "vscode": {
     "languageId": "dotnet-interactive.pwsh"
    }
   },
   "outputs": [],
   "source": [
    "[PSCustomObject] @{\n",
    "        \"version\" = \"1.0\";\n",
    "        \"description\" = \"Generic Data Center file example\";\n",
    "        \"objects\" = $objects\n",
    "} | ConvertTo-Json -Depth 10 | jq ."
   ]
  },
  {
   "cell_type": "code",
   "execution_count": null,
   "metadata": {
    "dotnet_interactive": {
     "language": "pwsh"
    },
    "vscode": {
     "languageId": "dotnet-interactive.pwsh"
    }
   },
   "outputs": [],
   "source": []
  }
 ],
 "metadata": {
  "kernelspec": {
   "display_name": ".NET (C#)",
   "language": "C#",
   "name": ".net-csharp"
  },
  "language_info": {
   "file_extension": ".cs",
   "mimetype": "text/x-csharp",
   "name": "C#",
   "pygments_lexer": "csharp",
   "version": "9.0"
  },
  "orig_nbformat": 4
 },
 "nbformat": 4,
 "nbformat_minor": 2
}
