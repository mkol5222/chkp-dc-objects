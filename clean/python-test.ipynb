{
 "cells": [
  {
   "cell_type": "code",
   "execution_count": 2,
   "metadata": {
    "dotnet_interactive": {
     "language": "csharp"
    }
   },
   "outputs": [
    {
     "name": "stdout",
     "output_type": "stream",
     "text": [
      "aaa\n"
     ]
    }
   ],
   "source": [
    "print(\"aaa\")"
   ]
  },
  {
   "cell_type": "markdown",
   "metadata": {},
   "source": [
    "# big news\n",
    "\n",
    "[link](https://www.youtube.com/watch?v=VUWeO6vZcRY)"
   ]
  },
  {
   "cell_type": "code",
   "execution_count": 2,
   "metadata": {
    "dotnet_interactive": {
     "language": "csharp"
    }
   },
   "outputs": [
    {
     "name": "stdout",
     "output_type": "stream",
     "text": [
      "Darwin Martins-MacBook-Pro.local 21.2.0 Darwin Kernel Version 21.2.0: Sun Nov 28 20:28:54 PST 2021; root:xnu-8019.61.5~1/RELEASE_X86_64 x86_64\n"
     ]
    }
   ],
   "source": [
    "# shell command\n",
    "!uname -a"
   ]
  },
  {
   "cell_type": "code",
   "execution_count": 6,
   "metadata": {},
   "outputs": [
    {
     "name": "stdout",
     "output_type": "stream",
     "text": [
      "{\"name\":\"Luke Skywalker\",\"height\":\"172\",\"mass\":\"77\",\"hair_color\":\"blond\",\"skin_color\":\"fair\",\"eye_color\":\"blue\",\"birth_year\":\"19BBY\",\"gender\":\"male\",\"homeworld\":\"https://swapi.dev/api/planets/1/\",\"films\":[\"https://swapi.dev/api/films/1/\",\"https://swapi.dev/api/films/2/\",\"https://swapi.dev/api/films/3/\",\"https://swapi.dev/api/films/6/\"],\"species\":[],\"vehicles\":[\"https://swapi.dev/api/vehicles/14/\",\"https://swapi.dev/api/vehicles/30/\"],\"starships\":[\"https://swapi.dev/api/starships/12/\",\"https://swapi.dev/api/starships/22/\"],\"created\":\"2014-12-09T13:50:51.644000Z\",\"edited\":\"2014-12-20T21:17:56.891000Z\",\"url\":\"https://swapi.dev/api/people/1/\"}\u001b[1;39m[\n",
      "  \u001b[0;32m\"birth_year\"\u001b[0m\u001b[1;39m,\n",
      "  \u001b[0;32m\"created\"\u001b[0m\u001b[1;39m,\n",
      "  \u001b[0;32m\"edited\"\u001b[0m\u001b[1;39m,\n",
      "  \u001b[0;32m\"eye_color\"\u001b[0m\u001b[1;39m,\n",
      "  \u001b[0;32m\"films\"\u001b[0m\u001b[1;39m,\n",
      "  \u001b[0;32m\"gender\"\u001b[0m\u001b[1;39m,\n",
      "  \u001b[0;32m\"hair_color\"\u001b[0m\u001b[1;39m,\n",
      "  \u001b[0;32m\"height\"\u001b[0m\u001b[1;39m,\n",
      "  \u001b[0;32m\"homeworld\"\u001b[0m\u001b[1;39m,\n",
      "  \u001b[0;32m\"mass\"\u001b[0m\u001b[1;39m,\n",
      "  \u001b[0;32m\"name\"\u001b[0m\u001b[1;39m,\n",
      "  \u001b[0;32m\"skin_color\"\u001b[0m\u001b[1;39m,\n",
      "  \u001b[0;32m\"species\"\u001b[0m\u001b[1;39m,\n",
      "  \u001b[0;32m\"starships\"\u001b[0m\u001b[1;39m,\n",
      "  \u001b[0;32m\"url\"\u001b[0m\u001b[1;39m,\n",
      "  \u001b[0;32m\"vehicles\"\u001b[0m\u001b[1;39m\n",
      "\u001b[1;39m]\u001b[0m\n"
     ]
    }
   ],
   "source": [
    "# JSON handling \n",
    "! curl -s https://swapi.dev/api/people/1/\n",
    "\n",
    "! curl -s https://swapi.dev/api/people/1/ | jq '. |keys'"
   ]
  },
  {
   "cell_type": "code",
   "execution_count": null,
   "metadata": {},
   "outputs": [],
   "source": []
  }
 ],
 "metadata": {
  "interpreter": {
   "hash": "aee8b7b246df8f9039afb4144a1f6fd8d2ca17a180786b69acc140d282b71a49"
  },
  "kernelspec": {
   "display_name": ".NET (C#)",
   "language": "python",
   "name": "python3"
  },
  "language_info": {
   "codemirror_mode": {
    "name": "ipython",
    "version": 3
   },
   "file_extension": ".py",
   "mimetype": "text/x-python",
   "name": "python",
   "nbconvert_exporter": "python",
   "pygments_lexer": "ipython3",
   "version": "3.9.10"
  },
  "orig_nbformat": 4
 },
 "nbformat": 4,
 "nbformat_minor": 2
}
