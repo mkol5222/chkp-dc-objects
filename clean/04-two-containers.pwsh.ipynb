{
 "cells": [
  {
   "cell_type": "code",
   "execution_count": null,
   "metadata": {
    "dotnet_interactive": {
     "language": "pwsh"
    },
    "vscode": {
     "languageId": "dotnet-interactive.pwsh"
    }
   },
   "outputs": [],
   "source": [
    "kubectl create configmap dcobj-sample --from-file=dcobjs.json\n",
    "\n",
    "@\"\n",
    "apiVersion: v1\n",
    "kind: Pod\n",
    "metadata:\n",
    "  name: two-containers\n",
    "  labels:\n",
    "    environment: production\n",
    "    app: nginx\n",
    "\n",
    "# service account to read ns and pods\n",
    "spec:\n",
    "  serviceAccountName: cp-api-explorer\n",
    "\n",
    "# folder served by web server\n",
    "  volumes:\n",
    "  - name: shared-data\n",
    "    emptyDir: {}\n",
    "  # sample file\n",
    "  - name: dcobj-sample\n",
    "    configMap:\n",
    "      name: dcobj-sample\n",
    "\n",
    "  containers:\n",
    "\n",
    "  - name: web\n",
    "    image: nginx\n",
    "    volumeMounts:\n",
    "    \n",
    "    - name: shared-data\n",
    "      mountPath: /usr/share/nginx/html\n",
    "\n",
    "    - mountPath: /usr/share/nginx/html/sample\n",
    "      name: dcobj-sample\n",
    "      readOnly: true\n",
    "\n",
    "  - name: worker\n",
    "    image: ubuntu\n",
    "    volumeMounts:\n",
    "    - name: shared-data\n",
    "      mountPath: /pod-data\n",
    "    command: [\"/bin/bash\"]\n",
    "    args:\n",
    "      - \"-c\"\n",
    "      - \"date | tee /pod-data/index.html; tail -f /dev/null\"\n",
    "\"@ | kubectl apply -f -"
   ]
  },
  {
   "cell_type": "code",
   "execution_count": null,
   "metadata": {
    "dotnet_interactive": {
     "language": "pwsh"
    },
    "vscode": {
     "languageId": "dotnet-interactive.pwsh"
    }
   },
   "outputs": [],
   "source": [
    "kubectl describe pod two-containers"
   ]
  },
  {
   "cell_type": "code",
   "execution_count": null,
   "metadata": {
    "dotnet_interactive": {
     "language": "pwsh"
    },
    "vscode": {
     "languageId": "dotnet-interactive.pwsh"
    }
   },
   "outputs": [],
   "source": [
    "# check if worker has timespamp for us\n",
    "kubectl logs two-containers -c worker | head -2\n",
    "# and web is serving it\n",
    "kubectl exec two-containers -c web  -- cat /usr/share/nginx/html/index.html"
   ]
  },
  {
   "cell_type": "code",
   "execution_count": null,
   "metadata": {
    "dotnet_interactive": {
     "language": "pwsh"
    },
    "vscode": {
     "languageId": "dotnet-interactive.pwsh"
    }
   },
   "outputs": [],
   "source": [
    "# expose web server on node port\n",
    "kubectl expose pod two-containers --type=NodePort --port=80"
   ]
  },
  {
   "cell_type": "code",
   "execution_count": null,
   "metadata": {
    "dotnet_interactive": {
     "language": "pwsh"
    },
    "vscode": {
     "languageId": "dotnet-interactive.pwsh"
    }
   },
   "outputs": [],
   "source": [
    "# access from host\n",
    "minikube service list\n",
    "# get url to access server\n",
    "    # minikube service --url two-containers "
   ]
  },
  {
   "cell_type": "code",
   "execution_count": null,
   "metadata": {
    "dotnet_interactive": {
     "language": "pwsh"
    },
    "vscode": {
     "languageId": "dotnet-interactive.pwsh"
    }
   },
   "outputs": [],
   "source": [
    "minikube service list"
   ]
  },
  {
   "cell_type": "code",
   "execution_count": null,
   "metadata": {
    "dotnet_interactive": {
     "language": "pwsh"
    },
    "vscode": {
     "languageId": "dotnet-interactive.pwsh"
    }
   },
   "outputs": [],
   "source": [
    "# clean up\n",
    "kubectl delete pod two-containers\n",
    "kubectl delete configmap dcobj-sample"
   ]
  },
  {
   "cell_type": "code",
   "execution_count": null,
   "metadata": {
    "dotnet_interactive": {
     "language": "pwsh"
    },
    "vscode": {
     "languageId": "dotnet-interactive.pwsh"
    }
   },
   "outputs": [],
   "source": []
  }
 ],
 "metadata": {
  "kernelspec": {
   "display_name": ".NET (PowerShell)",
   "language": "PowerShell",
   "name": ".net-pwsh"
  },
  "language_info": {
   "name": "PowerShell"
  }
 },
 "nbformat": 4,
 "nbformat_minor": 2
}
